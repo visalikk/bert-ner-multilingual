{
 "cells": [
  {
   "cell_type": "markdown",
   "metadata": {},
   "source": [
    "# Lending Club Loan Default\n",
    "\n",
    "In this tutorial, we will go through a step-by-step workflow to determine loan deliquency. We will make predictions based only on the information available at the time the loan was issued.  The data for this exercise come from the public Lending Club data set, a description can be found [here](https://www.kaggle.com/pragyanbo/a-hitchhiker-s-guide-to-lending-club-loan-data/notebook).\n",
    "\n",
    "## Workflow\n",
    "\n",
    "1. Start the Sparkling Water cluster\n",
    "2. Import data\n",
    "3. Clean data\n",
    "4. Feature engineering\n",
    "5. Model training\n",
    "6. Examine model accuracy\n",
    "7. Interpret model\n",
    "8. Save and reuse model\n",
    "9. AutoML (optional)\n",
    "10. Stop the Sparkling Water cluster"
   ]
  },
  {
   "cell_type": "markdown",
   "metadata": {},
   "source": [
    "# Step 1 (of 10). Start the Sparkling Water cluster"
   ]
  },
  {
   "cell_type": "markdown",
   "metadata": {},
   "source": [
    "We will begin by starting the Sparkling Water cluster and importing the data into our H2O cluster."
   ]
  },
  {
   "cell_type": "code",
   "execution_count": 1,
   "metadata": {},
   "outputs": [
    {
     "name": "stdout",
     "output_type": "stream",
     "text": [
      "Connecting to H2O server at http://e186a4c45c98:54323/h2o ... successful.\n"
     ]
    },
    {
     "data": {
      "text/html": [
       "<div style=\"overflow:auto\"><table style=\"width:50%\"><tr><td>H2O_cluster_uptime:</td>\n",
       "<td>08 secs</td></tr>\n",
       "<tr><td>H2O_cluster_timezone:</td>\n",
       "<td>Etc/UTC</td></tr>\n",
       "<tr><td>H2O_data_parsing_timezone:</td>\n",
       "<td>UTC</td></tr>\n",
       "<tr><td>H2O_cluster_version:</td>\n",
       "<td>3.32.0.1</td></tr>\n",
       "<tr><td>H2O_cluster_version_age:</td>\n",
       "<td>12 days </td></tr>\n",
       "<tr><td>H2O_cluster_name:</td>\n",
       "<td>sparkling-water-h2o_local-1603296642320</td></tr>\n",
       "<tr><td>H2O_cluster_total_nodes:</td>\n",
       "<td>1</td></tr>\n",
       "<tr><td>H2O_cluster_free_memory:</td>\n",
       "<td>7.011 Gb</td></tr>\n",
       "<tr><td>H2O_cluster_total_cores:</td>\n",
       "<td>16</td></tr>\n",
       "<tr><td>H2O_cluster_allowed_cores:</td>\n",
       "<td>16</td></tr>\n",
       "<tr><td>H2O_cluster_status:</td>\n",
       "<td>locked, healthy</td></tr>\n",
       "<tr><td>H2O_connection_url:</td>\n",
       "<td>http://e186a4c45c98:54323/h2o</td></tr>\n",
       "<tr><td>H2O_connection_proxy:</td>\n",
       "<td>null</td></tr>\n",
       "<tr><td>H2O_internal_security:</td>\n",
       "<td>False</td></tr>\n",
       "<tr><td>H2O_API_Extensions:</td>\n",
       "<td>XGBoost, Algos, Amazon S3, Sparkling Water REST API Extensions, AutoML, Core V3, TargetEncoder, Core V4</td></tr>\n",
       "<tr><td>Python_version:</td>\n",
       "<td>3.6.11 final</td></tr></table></div>"
      ],
      "text/plain": [
       "--------------------------  -------------------------------------------------------------------------------------------------------\n",
       "H2O_cluster_uptime:         08 secs\n",
       "H2O_cluster_timezone:       Etc/UTC\n",
       "H2O_data_parsing_timezone:  UTC\n",
       "H2O_cluster_version:        3.32.0.1\n",
       "H2O_cluster_version_age:    12 days\n",
       "H2O_cluster_name:           sparkling-water-h2o_local-1603296642320\n",
       "H2O_cluster_total_nodes:    1\n",
       "H2O_cluster_free_memory:    7.011 Gb\n",
       "H2O_cluster_total_cores:    16\n",
       "H2O_cluster_allowed_cores:  16\n",
       "H2O_cluster_status:         locked, healthy\n",
       "H2O_connection_url:         http://e186a4c45c98:54323/h2o\n",
       "H2O_connection_proxy:       null\n",
       "H2O_internal_security:      False\n",
       "H2O_API_Extensions:         XGBoost, Algos, Amazon S3, Sparkling Water REST API Extensions, AutoML, Core V3, TargetEncoder, Core V4\n",
       "Python_version:             3.6.11 final\n",
       "--------------------------  -------------------------------------------------------------------------------------------------------"
      ]
     },
     "metadata": {},
     "output_type": "display_data"
    },
    {
     "name": "stdout",
     "output_type": "stream",
     "text": [
      "\n",
      "Sparkling Water Context:\n",
      " * Sparkling Water Version: 3.32.0.1-2-3.0\n",
      " * H2O name: sparkling-water-h2o_local-1603296642320\n",
      " * cluster size: 1\n",
      " * list of used nodes:\n",
      "  (executorId, host, port)\n",
      "  ------------------------\n",
      "  (0,172.17.0.2,54321)\n",
      "  ------------------------\n",
      "\n",
      "  Open H2O Flow in browser: http://e186a4c45c98:54323/h2o (CMD + click in Mac OSX)\n",
      "\n",
      "    \n"
     ]
    }
   ],
   "source": [
    "#Initiate H2OContext on top of Spark\n",
    "from pysparkling import *\n",
    "hc = H2OContext.getOrCreate()\n",
    "\n",
    "import h2o"
   ]
  },
  {
   "cell_type": "markdown",
   "metadata": {},
   "source": [
    "Note: The method you use for starting and stopping an Sparkling Water cluster will depend on how H2O is installed and configured on your system. Regardless of how H2O is installed, if you start a cluster, you will need to ensure that it is shut down when you are done."
   ]
  },
  {
   "cell_type": "markdown",
   "metadata": {},
   "source": [
    "# Step 2 (of 10). Import data\n",
    "\n",
    "The data set we use below is a local copy of https://s3-us-west-2.amazonaws.com/h2o-tutorials/data/topics/lending/lending_club/LoanStats3a.csv. "
   ]
  },
  {
   "cell_type": "code",
   "execution_count": 2,
   "metadata": {},
   "outputs": [],
   "source": [
    "import os\n",
    "input_csv = \"/home/h2o/data/lending_club/LoanStats3a.csv\"\n",
    "\n",
    "if not os.path.exists(input_csv):\n",
    "    input_csv = \"https://s3-us-west-2.amazonaws.com/h2o-tutorials/data/topics/lending/lending_club/LoanStats3a.csv\""
   ]
  },
  {
   "cell_type": "markdown",
   "metadata": {},
   "source": [
    "### View and Inspect the Data\n",
    "\n",
    "The loans data set is loaded directly into the H2O-3 cluster using the `h2o.import_file` command:"
   ]
  },
  {
   "cell_type": "code",
   "execution_count": 3,
   "metadata": {},
   "outputs": [
    {
     "name": "stdout",
     "output_type": "stream",
     "text": [
      "Parse progress: |█████████████████████████████████████████████████████████| 100%\n"
     ]
    }
   ],
   "source": [
    "loans = h2o.import_file(input_csv,\n",
    "                        col_types = {\"int_rate\":\"string\", \n",
    "                                     \"revol_util\":\"string\", \n",
    "                                     \"emp_length\":\"string\", \n",
    "                                     \"verification_status\":\"string\"})"
   ]
  },
  {
   "cell_type": "markdown",
   "metadata": {},
   "source": [
    "The `h2o.import_file` command loads the data directly into the H2O-3 cluster's memory, bypassing python. If one already has data in python, one can pass that object to a H2O Frame. The `h2o.import_file` approach is incredibly efficient, particularly for larg data sets.\n",
    "\n",
    "### Inspect the Data with H2O Flow\n",
    "\n",
    "Now is a good time to connect to H2O Flow. Although H2O Flow can be used for everything from loading data to building models to creating production code, we use it here for data investigation and H2O system monitoring.\n",
    "\n",
    "**Note**: the reported IP above, `http://localhost`, is the local IP within your particular cloud instance. To open H2O Flow in your own browser, copy the browser URL and\n",
    "\n",
    "**Aquarium**: \n",
    ">Replace \n",
    ">```\n",
    "http://{your URL}/jupyter/\n",
    ">``` \n",
    ">with \n",
    ">```\n",
    "http://{your URL}/h2o/\n",
    ">```\n",
    "\n",
    "**Otherwise**: \n",
    ">Replace\n",
    ">```\n",
    "http://{your URL}:8888\n",
    ">``` \n",
    ">with \n",
    ">```\n",
    "http://{your URL}:54321\n",
    ">```\n",
    "\n",
    "Some summary information on the data is provided below:"
   ]
  },
  {
   "cell_type": "code",
   "execution_count": 4,
   "metadata": {},
   "outputs": [
    {
     "data": {
      "text/plain": [
       "[42536, 52]"
      ]
     },
     "execution_count": 4,
     "metadata": {},
     "output_type": "execute_result"
    }
   ],
   "source": [
    "loans.dim"
   ]
  },
  {
   "cell_type": "code",
   "execution_count": 5,
   "metadata": {},
   "outputs": [
    {
     "data": {
      "text/html": [
       "<table>\n",
       "<thead>\n",
       "<tr><th style=\"text-align: right;\">         id</th><th style=\"text-align: right;\">  member_id</th><th style=\"text-align: right;\">  loan_amnt</th><th style=\"text-align: right;\">  funded_amnt</th><th style=\"text-align: right;\">  funded_amnt_inv</th><th>term     </th><th>int_rate  </th><th style=\"text-align: right;\">  installment</th><th>grade  </th><th>sub_grade  </th><th>emp_title                </th><th>emp_length  </th><th>home_ownership  </th><th style=\"text-align: right;\">  annual_inc</th><th>verification_status     </th><th>issue_d            </th><th>loan_status  </th><th>pymnt_plan  </th><th>url                                                                 </th><th>desc                                                                                                                                                                                                                                                                                                                                                                                                                                                                                                                                                                                                        </th><th>purpose           </th><th>title                                </th><th>zip_code  </th><th>addr_state  </th><th style=\"text-align: right;\">  dti</th><th style=\"text-align: right;\">  delinq_2yrs</th><th>earliest_cr_line   </th><th style=\"text-align: right;\">  inq_last_6mths</th><th>mths_since_last_delinq  </th><th>mths_since_last_record  </th><th style=\"text-align: right;\">  open_acc</th><th style=\"text-align: right;\">  pub_rec</th><th style=\"text-align: right;\">  revol_bal</th><th>revol_util  </th><th style=\"text-align: right;\">  total_acc</th><th>initial_list_status  </th><th style=\"text-align: right;\">  out_prncp</th><th style=\"text-align: right;\">  out_prncp_inv</th><th style=\"text-align: right;\">  total_pymnt</th><th style=\"text-align: right;\">  total_pymnt_inv</th><th style=\"text-align: right;\">  total_rec_prncp</th><th style=\"text-align: right;\">  total_rec_int</th><th style=\"text-align: right;\">  total_rec_late_fee</th><th style=\"text-align: right;\">  recoveries</th><th style=\"text-align: right;\">  collection_recovery_fee</th><th>last_pymnt_d       </th><th style=\"text-align: right;\">  last_pymnt_amnt</th><th>next_pymnt_d       </th><th>last_credit_pull_d  </th><th style=\"text-align: right;\">  collections_12_mths_ex_med</th><th>mths_since_last_major_derog  </th><th style=\"text-align: right;\">  policy_code</th></tr>\n",
       "</thead>\n",
       "<tbody>\n",
       "<tr><td style=\"text-align: right;\">1.0775e+06 </td><td style=\"text-align: right;\">1.2966e+06 </td><td style=\"text-align: right;\">       5000</td><td style=\"text-align: right;\">         5000</td><td style=\"text-align: right;\">             4975</td><td>36 months</td><td>10.65%    </td><td style=\"text-align: right;\">       162.87</td><td>B      </td><td>B2         </td><td>                         </td><td>10+ years   </td><td>RENT            </td><td style=\"text-align: right;\">       24000</td><td>VERIFIED - income       </td><td>2011-12-01 00:00:00</td><td>Fully Paid   </td><td>n           </td><td>https://www.lendingclub.com/browse/loanDetail.action?loan_id=1077501</td><td>Borrower added on 12/22/11 &gt; I need to upgrade my business technologies.&lt;br&gt;                                                                                                                                                                                                                                                                                                                                                                                                                                                                                                                                </td><td>credit_card       </td><td>Computer                             </td><td>860xx     </td><td>AZ          </td><td style=\"text-align: right;\">27.65</td><td style=\"text-align: right;\">            0</td><td>1985-01-01 00:00:00</td><td style=\"text-align: right;\">               1</td><td>                        </td><td>                        </td><td style=\"text-align: right;\">         3</td><td style=\"text-align: right;\">        0</td><td style=\"text-align: right;\">      13648</td><td>83.7%       </td><td style=\"text-align: right;\">          9</td><td>f                    </td><td style=\"text-align: right;\">       0   </td><td style=\"text-align: right;\">           0   </td><td style=\"text-align: right;\">      5861.07</td><td style=\"text-align: right;\">          5831.78</td><td style=\"text-align: right;\">          5000   </td><td style=\"text-align: right;\">         861.07</td><td style=\"text-align: right;\">                0   </td><td style=\"text-align: right;\">        0   </td><td style=\"text-align: right;\">                     0   </td><td>2015-01-01 00:00:00</td><td style=\"text-align: right;\">           171.62</td><td>                   </td><td>2015-01-01 00:00:00 </td><td style=\"text-align: right;\">                           0</td><td>                             </td><td style=\"text-align: right;\">            1</td></tr>\n",
       "<tr><td style=\"text-align: right;\">1.07743e+06</td><td style=\"text-align: right;\">1.31417e+06</td><td style=\"text-align: right;\">       2500</td><td style=\"text-align: right;\">         2500</td><td style=\"text-align: right;\">             2500</td><td>60 months</td><td>15.27%    </td><td style=\"text-align: right;\">        59.83</td><td>C      </td><td>C4         </td><td>Ryder                    </td><td>&lt; 1 year    </td><td>RENT            </td><td style=\"text-align: right;\">       30000</td><td>VERIFIED - income source</td><td>2011-12-01 00:00:00</td><td>Charged Off  </td><td>n           </td><td>https://www.lendingclub.com/browse/loanDetail.action?loan_id=1077430</td><td>Borrower added on 12/22/11 &gt; I plan to use this money to finance the motorcycle i am looking at. I plan to have it paid off as soon as possible/when i sell my old bike. I only need this money because the deal im looking at is to good to pass up.&lt;br&gt;&lt;br&gt;  Borrower added on 12/22/11 &gt; I plan to use this money to finance the motorcycle i am looking at. I plan to have it paid off as soon as possible/when i sell my old bike.I only need this money because the deal im looking at is to good to pass up. I have finished college with an associates degree in business and its takingmeplaces&lt;br&gt;</td><td>car               </td><td>bike                                 </td><td>309xx     </td><td>GA          </td><td style=\"text-align: right;\"> 1   </td><td style=\"text-align: right;\">            0</td><td>1999-04-01 00:00:00</td><td style=\"text-align: right;\">               5</td><td>                        </td><td>                        </td><td style=\"text-align: right;\">         3</td><td style=\"text-align: right;\">        0</td><td style=\"text-align: right;\">       1687</td><td>9.4%        </td><td style=\"text-align: right;\">          4</td><td>f                    </td><td style=\"text-align: right;\">       0   </td><td style=\"text-align: right;\">           0   </td><td style=\"text-align: right;\">      1008.71</td><td style=\"text-align: right;\">          1008.71</td><td style=\"text-align: right;\">           456.46</td><td style=\"text-align: right;\">         435.17</td><td style=\"text-align: right;\">                0   </td><td style=\"text-align: right;\">      117.08</td><td style=\"text-align: right;\">                     1.11</td><td>2013-04-01 00:00:00</td><td style=\"text-align: right;\">           119.66</td><td>                   </td><td>2013-09-01 00:00:00 </td><td style=\"text-align: right;\">                           0</td><td>                             </td><td style=\"text-align: right;\">            1</td></tr>\n",
       "<tr><td style=\"text-align: right;\">1.07718e+06</td><td style=\"text-align: right;\">1.31352e+06</td><td style=\"text-align: right;\">       2400</td><td style=\"text-align: right;\">         2400</td><td style=\"text-align: right;\">             2400</td><td>36 months</td><td>15.96%    </td><td style=\"text-align: right;\">        84.33</td><td>C      </td><td>C5         </td><td>                         </td><td>10+ years   </td><td>RENT            </td><td style=\"text-align: right;\">       12252</td><td>not verified            </td><td>2011-12-01 00:00:00</td><td>Fully Paid   </td><td>n           </td><td>https://www.lendingclub.com/browse/loanDetail.action?loan_id=1077175</td><td>                                                                                                                                                                                                                                                                                                                                                                                                                                                                                                                                                                                                            </td><td>small_business    </td><td>real estate business                 </td><td>606xx     </td><td>IL          </td><td style=\"text-align: right;\"> 8.72</td><td style=\"text-align: right;\">            0</td><td>2001-11-01 00:00:00</td><td style=\"text-align: right;\">               2</td><td>                        </td><td>                        </td><td style=\"text-align: right;\">         2</td><td style=\"text-align: right;\">        0</td><td style=\"text-align: right;\">       2956</td><td>98.5%       </td><td style=\"text-align: right;\">         10</td><td>f                    </td><td style=\"text-align: right;\">       0   </td><td style=\"text-align: right;\">           0   </td><td style=\"text-align: right;\">      3003.65</td><td style=\"text-align: right;\">          3003.65</td><td style=\"text-align: right;\">          2400   </td><td style=\"text-align: right;\">         603.65</td><td style=\"text-align: right;\">                0   </td><td style=\"text-align: right;\">        0   </td><td style=\"text-align: right;\">                     0   </td><td>2014-06-01 00:00:00</td><td style=\"text-align: right;\">           649.91</td><td>                   </td><td>2015-06-01 00:00:00 </td><td style=\"text-align: right;\">                           0</td><td>                             </td><td style=\"text-align: right;\">            1</td></tr>\n",
       "<tr><td style=\"text-align: right;\">1.07686e+06</td><td style=\"text-align: right;\">1.27718e+06</td><td style=\"text-align: right;\">      10000</td><td style=\"text-align: right;\">        10000</td><td style=\"text-align: right;\">            10000</td><td>36 months</td><td>13.49%    </td><td style=\"text-align: right;\">       339.31</td><td>C      </td><td>C1         </td><td>AIR RESOURCES BOARD      </td><td>10+ years   </td><td>RENT            </td><td style=\"text-align: right;\">       49200</td><td>VERIFIED - income source</td><td>2011-12-01 00:00:00</td><td>Fully Paid   </td><td>n           </td><td>https://www.lendingclub.com/browse/loanDetail.action?loan_id=1076863</td><td>Borrower added on 12/21/11 &gt; to pay for property tax (borrow from friend, need to pay back) &amp; central A/C need to be replace. I&#x27;m very sorry to let my loan expired last time.&lt;br&gt;                                                                                                                                                                                                                                                                                                                                                                                                                          </td><td>other             </td><td>personel                             </td><td>917xx     </td><td>CA          </td><td style=\"text-align: right;\">20   </td><td style=\"text-align: right;\">            0</td><td>1996-02-01 00:00:00</td><td style=\"text-align: right;\">               1</td><td>35                      </td><td>                        </td><td style=\"text-align: right;\">        10</td><td style=\"text-align: right;\">        0</td><td style=\"text-align: right;\">       5598</td><td>21%         </td><td style=\"text-align: right;\">         37</td><td>f                    </td><td style=\"text-align: right;\">       0   </td><td style=\"text-align: right;\">           0   </td><td style=\"text-align: right;\">     12226.3 </td><td style=\"text-align: right;\">         12226.3 </td><td style=\"text-align: right;\">         10000   </td><td style=\"text-align: right;\">        2209.33</td><td style=\"text-align: right;\">               16.97</td><td style=\"text-align: right;\">        0   </td><td style=\"text-align: right;\">                     0   </td><td>2015-01-01 00:00:00</td><td style=\"text-align: right;\">           357.48</td><td>                   </td><td>2015-01-01 00:00:00 </td><td style=\"text-align: right;\">                           0</td><td>                             </td><td style=\"text-align: right;\">            1</td></tr>\n",
       "<tr><td style=\"text-align: right;\">1.07536e+06</td><td style=\"text-align: right;\">1.31175e+06</td><td style=\"text-align: right;\">       3000</td><td style=\"text-align: right;\">         3000</td><td style=\"text-align: right;\">             3000</td><td>60 months</td><td>12.69%    </td><td style=\"text-align: right;\">        67.79</td><td>B      </td><td>B5         </td><td>University Medical Group </td><td>1 year      </td><td>RENT            </td><td style=\"text-align: right;\">       80000</td><td>VERIFIED - income source</td><td>2011-12-01 00:00:00</td><td>Current      </td><td>n           </td><td>https://www.lendingclub.com/browse/loanDetail.action?loan_id=1075358</td><td>Borrower added on 12/21/11 &gt; I plan on combining three large interest bills together and freeing up some extra each month to pay toward other bills.  I&#x27;ve always been a good payor but have found myself needing to make adjustments to my budget due to a medical scare. My job is very stable, I love it.&lt;br&gt;                                                                                                                                                                                                                                                                                            </td><td>other             </td><td>Personal                             </td><td>972xx     </td><td>OR          </td><td style=\"text-align: right;\">17.94</td><td style=\"text-align: right;\">            0</td><td>1996-01-01 00:00:00</td><td style=\"text-align: right;\">               0</td><td>38                      </td><td>                        </td><td style=\"text-align: right;\">        15</td><td style=\"text-align: right;\">        0</td><td style=\"text-align: right;\">      27783</td><td>53.9%       </td><td style=\"text-align: right;\">         38</td><td>f                    </td><td style=\"text-align: right;\">    1168.04</td><td style=\"text-align: right;\">        1168.04</td><td style=\"text-align: right;\">      2767.64</td><td style=\"text-align: right;\">          2767.64</td><td style=\"text-align: right;\">          1831.96</td><td style=\"text-align: right;\">         935.68</td><td style=\"text-align: right;\">                0   </td><td style=\"text-align: right;\">        0   </td><td style=\"text-align: right;\">                     0   </td><td>2015-06-01 00:00:00</td><td style=\"text-align: right;\">            67.79</td><td>2015-07-01 00:00:00</td><td>2015-06-01 00:00:00 </td><td style=\"text-align: right;\">                           0</td><td>                             </td><td style=\"text-align: right;\">            1</td></tr>\n",
       "<tr><td style=\"text-align: right;\">1.07527e+06</td><td style=\"text-align: right;\">1.31144e+06</td><td style=\"text-align: right;\">       5000</td><td style=\"text-align: right;\">         5000</td><td style=\"text-align: right;\">             5000</td><td>36 months</td><td>7.90%     </td><td style=\"text-align: right;\">       156.46</td><td>A      </td><td>A4         </td><td>Veolia Transportaton     </td><td>3 years     </td><td>RENT            </td><td style=\"text-align: right;\">       36000</td><td>VERIFIED - income source</td><td>2011-12-01 00:00:00</td><td>Fully Paid   </td><td>n           </td><td>https://www.lendingclub.com/browse/loanDetail.action?loan_id=1075269</td><td>                                                                                                                                                                                                                                                                                                                                                                                                                                                                                                                                                                                                            </td><td>wedding           </td><td>My wedding loan I promise to pay back</td><td>852xx     </td><td>AZ          </td><td style=\"text-align: right;\">11.2 </td><td style=\"text-align: right;\">            0</td><td>2004-11-01 00:00:00</td><td style=\"text-align: right;\">               3</td><td>                        </td><td>                        </td><td style=\"text-align: right;\">         9</td><td style=\"text-align: right;\">        0</td><td style=\"text-align: right;\">       7963</td><td>28.3%       </td><td style=\"text-align: right;\">         12</td><td>f                    </td><td style=\"text-align: right;\">       0   </td><td style=\"text-align: right;\">           0   </td><td style=\"text-align: right;\">      5631.38</td><td style=\"text-align: right;\">          5631.38</td><td style=\"text-align: right;\">          5000   </td><td style=\"text-align: right;\">         631.38</td><td style=\"text-align: right;\">                0   </td><td style=\"text-align: right;\">        0   </td><td style=\"text-align: right;\">                     0   </td><td>2015-01-01 00:00:00</td><td style=\"text-align: right;\">           161.03</td><td>                   </td><td>2015-06-01 00:00:00 </td><td style=\"text-align: right;\">                           0</td><td>                             </td><td style=\"text-align: right;\">            1</td></tr>\n",
       "<tr><td style=\"text-align: right;\">1.06964e+06</td><td style=\"text-align: right;\">1.30474e+06</td><td style=\"text-align: right;\">       7000</td><td style=\"text-align: right;\">         7000</td><td style=\"text-align: right;\">             7000</td><td>60 months</td><td>15.96%    </td><td style=\"text-align: right;\">       170.08</td><td>C      </td><td>C5         </td><td>Southern Star Photography</td><td>8 years     </td><td>RENT            </td><td style=\"text-align: right;\">       47004</td><td>not verified            </td><td>2011-12-01 00:00:00</td><td>Current      </td><td>n           </td><td>https://www.lendingclub.com/browse/loanDetail.action?loan_id=1069639</td><td>Borrower added on 12/18/11 &gt; I am planning on using the funds to pay off two retail credit cards with 24.99% interest rates, as well as a major bank credit card with a 18.99% rate.  I pay all my bills on time, looking for a lower combined payment and lower monthly payment.&lt;br&gt;                                                                                                                                                                                                                                                                                                                       </td><td>debt_consolidation</td><td>Loan                                 </td><td>280xx     </td><td>NC          </td><td style=\"text-align: right;\">23.51</td><td style=\"text-align: right;\">            0</td><td>2005-07-01 00:00:00</td><td style=\"text-align: right;\">               1</td><td>                        </td><td>                        </td><td style=\"text-align: right;\">         7</td><td style=\"text-align: right;\">        0</td><td style=\"text-align: right;\">      17726</td><td>85.6%       </td><td style=\"text-align: right;\">         11</td><td>f                    </td><td style=\"text-align: right;\">    2853.21</td><td style=\"text-align: right;\">        2853.21</td><td style=\"text-align: right;\">      6946.28</td><td style=\"text-align: right;\">          6946.28</td><td style=\"text-align: right;\">          4146.8 </td><td style=\"text-align: right;\">        2799.48</td><td style=\"text-align: right;\">                0   </td><td style=\"text-align: right;\">        0   </td><td style=\"text-align: right;\">                     0   </td><td>2015-06-01 00:00:00</td><td style=\"text-align: right;\">           170.08</td><td>2015-08-01 00:00:00</td><td>2015-06-01 00:00:00 </td><td style=\"text-align: right;\">                           0</td><td>                             </td><td style=\"text-align: right;\">            1</td></tr>\n",
       "<tr><td style=\"text-align: right;\">1.07205e+06</td><td style=\"text-align: right;\">1.28869e+06</td><td style=\"text-align: right;\">       3000</td><td style=\"text-align: right;\">         3000</td><td style=\"text-align: right;\">             3000</td><td>36 months</td><td>18.64%    </td><td style=\"text-align: right;\">       109.43</td><td>E      </td><td>E1         </td><td>MKC Accounting           </td><td>9 years     </td><td>RENT            </td><td style=\"text-align: right;\">       48000</td><td>VERIFIED - income source</td><td>2011-12-01 00:00:00</td><td>Fully Paid   </td><td>n           </td><td>https://www.lendingclub.com/browse/loanDetail.action?loan_id=1072053</td><td>Borrower added on 12/16/11 &gt; Downpayment for a car.&lt;br&gt;                                                                                                                                                                                                                                                                                                                                                                                                                                                                                                                                                     </td><td>car               </td><td>Car Downpayment                      </td><td>900xx     </td><td>CA          </td><td style=\"text-align: right;\"> 5.35</td><td style=\"text-align: right;\">            0</td><td>2007-01-01 00:00:00</td><td style=\"text-align: right;\">               2</td><td>                        </td><td>                        </td><td style=\"text-align: right;\">         4</td><td style=\"text-align: right;\">        0</td><td style=\"text-align: right;\">       8221</td><td>87.5%       </td><td style=\"text-align: right;\">          4</td><td>f                    </td><td style=\"text-align: right;\">       0   </td><td style=\"text-align: right;\">           0   </td><td style=\"text-align: right;\">      3938.14</td><td style=\"text-align: right;\">          3938.14</td><td style=\"text-align: right;\">          3000   </td><td style=\"text-align: right;\">         938.14</td><td style=\"text-align: right;\">                0   </td><td style=\"text-align: right;\">        0   </td><td style=\"text-align: right;\">                     0   </td><td>2015-01-01 00:00:00</td><td style=\"text-align: right;\">           111.34</td><td>                   </td><td>2014-12-01 00:00:00 </td><td style=\"text-align: right;\">                           0</td><td>                             </td><td style=\"text-align: right;\">            1</td></tr>\n",
       "<tr><td style=\"text-align: right;\">1.0718e+06 </td><td style=\"text-align: right;\">1.30696e+06</td><td style=\"text-align: right;\">       5600</td><td style=\"text-align: right;\">         5600</td><td style=\"text-align: right;\">             5600</td><td>60 months</td><td>21.28%    </td><td style=\"text-align: right;\">       152.39</td><td>F      </td><td>F2         </td><td>                         </td><td>4 years     </td><td>OWN             </td><td style=\"text-align: right;\">       40000</td><td>VERIFIED - income source</td><td>2011-12-01 00:00:00</td><td>Charged Off  </td><td>n           </td><td>https://www.lendingclub.com/browse/loanDetail.action?loan_id=1071795</td><td>Borrower added on 12/21/11 &gt; I own a small home-based judgment collection business. I have 5 years experience collecting debts. I am now going from a home office to a small office. I also plan to buy a small debt portfolio (eg. $10K for $1M of debt) &lt;br&gt;My score is not A+ because I own my home and have no mortgage.&lt;br&gt;                                                                                                                                                                                                                                                                            </td><td>small_business    </td><td>Expand Business &amp; Buy Debt Portfolio </td><td>958xx     </td><td>CA          </td><td style=\"text-align: right;\"> 5.55</td><td style=\"text-align: right;\">            0</td><td>2004-04-01 00:00:00</td><td style=\"text-align: right;\">               2</td><td>                        </td><td>                        </td><td style=\"text-align: right;\">        11</td><td style=\"text-align: right;\">        0</td><td style=\"text-align: right;\">       5210</td><td>32.6%       </td><td style=\"text-align: right;\">         13</td><td>f                    </td><td style=\"text-align: right;\">       0   </td><td style=\"text-align: right;\">           0   </td><td style=\"text-align: right;\">       646.02</td><td style=\"text-align: right;\">           646.02</td><td style=\"text-align: right;\">           162.02</td><td style=\"text-align: right;\">         294.94</td><td style=\"text-align: right;\">                0   </td><td style=\"text-align: right;\">      189.06</td><td style=\"text-align: right;\">                     2.09</td><td>2012-04-01 00:00:00</td><td style=\"text-align: right;\">           152.39</td><td>                   </td><td>2012-08-01 00:00:00 </td><td style=\"text-align: right;\">                           0</td><td>                             </td><td style=\"text-align: right;\">            1</td></tr>\n",
       "<tr><td style=\"text-align: right;\">1.07157e+06</td><td style=\"text-align: right;\">1.30672e+06</td><td style=\"text-align: right;\">       5375</td><td style=\"text-align: right;\">         5375</td><td style=\"text-align: right;\">             5350</td><td>60 months</td><td>12.69%    </td><td style=\"text-align: right;\">       121.45</td><td>B      </td><td>B5         </td><td>Starbucks                </td><td>&lt; 1 year    </td><td>RENT            </td><td style=\"text-align: right;\">       15000</td><td>VERIFIED - income       </td><td>2011-12-01 00:00:00</td><td>Charged Off  </td><td>n           </td><td>https://www.lendingclub.com/browse/loanDetail.action?loan_id=1071570</td><td>Borrower added on 12/16/11 &gt; I&#x27;m trying to build up my credit history. I live with my brother and have no car payment or credit cards. I am in community college and work full time. Im going to use the money to make some repairs around the house and get some maintenance done on my car.&lt;br&gt;&lt;br&gt;  Borrower added on 12/20/11 &gt; $1000 down only $4375 to go. Thanks to everyone that invested so far, looking forward to surprising my brother with the fixes around the house.&lt;br&gt;                                                                                                                     </td><td>other             </td><td>Building my credit history.          </td><td>774xx     </td><td>TX          </td><td style=\"text-align: right;\">18.08</td><td style=\"text-align: right;\">            0</td><td>2004-09-01 00:00:00</td><td style=\"text-align: right;\">               0</td><td>                        </td><td>                        </td><td style=\"text-align: right;\">         2</td><td style=\"text-align: right;\">        0</td><td style=\"text-align: right;\">       9279</td><td>36.5%       </td><td style=\"text-align: right;\">          3</td><td>f                    </td><td style=\"text-align: right;\">       0   </td><td style=\"text-align: right;\">           0   </td><td style=\"text-align: right;\">      1476.19</td><td style=\"text-align: right;\">          1469.34</td><td style=\"text-align: right;\">           673.48</td><td style=\"text-align: right;\">         533.42</td><td style=\"text-align: right;\">                0   </td><td style=\"text-align: right;\">      269.29</td><td style=\"text-align: right;\">                     2.52</td><td>2012-11-01 00:00:00</td><td style=\"text-align: right;\">           121.45</td><td>                   </td><td>2013-03-01 00:00:00 </td><td style=\"text-align: right;\">                           0</td><td>                             </td><td style=\"text-align: right;\">            1</td></tr>\n",
       "</tbody>\n",
       "</table>"
      ]
     },
     "metadata": {},
     "output_type": "display_data"
    },
    {
     "data": {
      "text/plain": []
     },
     "execution_count": 5,
     "metadata": {},
     "output_type": "execute_result"
    }
   ],
   "source": [
    "loans.head()"
   ]
  },
  {
   "cell_type": "markdown",
   "metadata": {},
   "source": [
    "------\n",
    "\n",
    ">## Comment: Data preparation for modeling\n",
    ">\n",
    ">In this tutorial, we either rush through or perhaps skip steps that a modeler would typically spend a considerable amount of effort on. For example, we omit entirely exploratory data analysis. Additionally, the process of **_defining the problem_** is often iterative and takes a lot of thought and effort. We make the assumption here that this work has already been done by the modeler.\n",
    ">\n",
    ">In reality, the majority of a modeler's time is spent on problem definition and data cleaning/wrangling/munging. Our speed at going through these steps to demonstrate the use of H2O-3 in no way minimizes the importance of careful and thoughtful data preparation for model building. \n",
    "\n",
    "-----\n"
   ]
  },
  {
   "cell_type": "markdown",
   "metadata": {},
   "source": [
    "# Step 3 (of 10).  Clean data\n",
    "\n",
    "\n",
    "## Part 1. Defining the problem and creating the response variable\n",
    "\n",
    "The total number of loans in our data set is"
   ]
  },
  {
   "cell_type": "code",
   "execution_count": 6,
   "metadata": {},
   "outputs": [
    {
     "data": {
      "text/plain": [
       "42536"
      ]
     },
     "execution_count": 6,
     "metadata": {},
     "output_type": "execute_result"
    }
   ],
   "source": [
    "num_unfiltered_loans = loans.dim[0]\n",
    "num_unfiltered_loans"
   ]
  },
  {
   "cell_type": "markdown",
   "metadata": {},
   "source": [
    "Because we are interested in loan default, we need to look at the `loan_status` column."
   ]
  },
  {
   "cell_type": "code",
   "execution_count": 7,
   "metadata": {},
   "outputs": [
    {
     "data": {
      "text/html": [
       "<table>\n",
       "<thead>\n",
       "<tr><th>loan_status                                             </th><th style=\"text-align: right;\">  Count</th></tr>\n",
       "</thead>\n",
       "<tbody>\n",
       "<tr><td>Charged Off                                             </td><td style=\"text-align: right;\">   5435</td></tr>\n",
       "<tr><td>Current                                                 </td><td style=\"text-align: right;\">   3351</td></tr>\n",
       "<tr><td>Default                                                 </td><td style=\"text-align: right;\">      7</td></tr>\n",
       "<tr><td>Does not meet the credit policy.  Status:Charged Off    </td><td style=\"text-align: right;\">    761</td></tr>\n",
       "<tr><td>Does not meet the credit policy.  Status:Current        </td><td style=\"text-align: right;\">     53</td></tr>\n",
       "<tr><td>Does not meet the credit policy.  Status:Fully Paid     </td><td style=\"text-align: right;\">   1933</td></tr>\n",
       "<tr><td>Does not meet the credit policy.  Status:In Grace Period</td><td style=\"text-align: right;\">      2</td></tr>\n",
       "<tr><td>Fully Paid                                              </td><td style=\"text-align: right;\">  30843</td></tr>\n",
       "<tr><td>In Grace Period                                         </td><td style=\"text-align: right;\">     60</td></tr>\n",
       "<tr><td>Late (16-30 days)                                       </td><td style=\"text-align: right;\">     16</td></tr>\n",
       "<tr><td>Late (31-120 days)                                      </td><td style=\"text-align: right;\">     74</td></tr>\n",
       "</tbody>\n",
       "</table>"
      ]
     },
     "metadata": {},
     "output_type": "display_data"
    },
    {
     "data": {
      "text/plain": []
     },
     "execution_count": 7,
     "metadata": {},
     "output_type": "execute_result"
    }
   ],
   "source": [
    "loans[\"loan_status\"].table().head(20)"
   ]
  },
  {
   "cell_type": "markdown",
   "metadata": {},
   "source": [
    "Like many real data sources, `loan_status` is messy and contains multiple, somewhat overlapping, categories. Before modeling, we will need to clean this up by (a) removing loans that are still ongoing, and (b) simplifying the response column.\n",
    "\n",
    "### (a) Filter Loans\n",
    "\n",
    "In order to build a valid model, we have to remove loans that are still in process. They have `loan_status` like \"Current\" and \"In Grace Period\":"
   ]
  },
  {
   "cell_type": "code",
   "execution_count": 8,
   "metadata": {},
   "outputs": [],
   "source": [
    "ongoing_status = [\"Current\",\n",
    "                  \"In Grace Period\",\n",
    "                  \"Late (16-30 days)\",\n",
    "                  \"Late (31-120 days)\",\n",
    "                  \"Does not meet the credit policy.  Status:Current\",\n",
    "                  \"Does not meet the credit policy.  Status:In Grace Period\"\n",
    "                 ]\n",
    "loans = loans[~loans[\"loan_status\"].isin(ongoing_status)]"
   ]
  },
  {
   "cell_type": "markdown",
   "metadata": {},
   "source": [
    "After filtering out ongoing loans, we now have"
   ]
  },
  {
   "cell_type": "code",
   "execution_count": 9,
   "metadata": {},
   "outputs": [
    {
     "data": {
      "text/plain": [
       "38980"
      ]
     },
     "execution_count": 9,
     "metadata": {},
     "output_type": "execute_result"
    }
   ],
   "source": [
    "num_filtered_loans = loans.dim[0]\n",
    "num_filtered_loans"
   ]
  },
  {
   "cell_type": "markdown",
   "metadata": {},
   "source": [
    "loans whose final state is known, which means we filtered out"
   ]
  },
  {
   "cell_type": "code",
   "execution_count": 10,
   "metadata": {},
   "outputs": [
    {
     "data": {
      "text/plain": [
       "3556"
      ]
     },
     "execution_count": 10,
     "metadata": {},
     "output_type": "execute_result"
    }
   ],
   "source": [
    "num_loans_filtered_out = num_unfiltered_loans - num_filtered_loans\n",
    "num_loans_filtered_out"
   ]
  },
  {
   "cell_type": "markdown",
   "metadata": {},
   "source": [
    "loans. These loans are now summarized by `loan_status` as"
   ]
  },
  {
   "cell_type": "code",
   "execution_count": 11,
   "metadata": {},
   "outputs": [
    {
     "data": {
      "text/html": [
       "<table>\n",
       "<thead>\n",
       "<tr><th>loan_status                                         </th><th style=\"text-align: right;\">  Count</th></tr>\n",
       "</thead>\n",
       "<tbody>\n",
       "<tr><td>Charged Off                                         </td><td style=\"text-align: right;\">   5435</td></tr>\n",
       "<tr><td>Default                                             </td><td style=\"text-align: right;\">      7</td></tr>\n",
       "<tr><td>Does not meet the credit policy.  Status:Charged Off</td><td style=\"text-align: right;\">    761</td></tr>\n",
       "<tr><td>Does not meet the credit policy.  Status:Fully Paid </td><td style=\"text-align: right;\">   1933</td></tr>\n",
       "<tr><td>Fully Paid                                          </td><td style=\"text-align: right;\">  30843</td></tr>\n",
       "</tbody>\n",
       "</table>"
      ]
     },
     "metadata": {},
     "output_type": "display_data"
    },
    {
     "data": {
      "text/plain": []
     },
     "execution_count": 11,
     "metadata": {},
     "output_type": "execute_result"
    }
   ],
   "source": [
    "loans[\"loan_status\"].table().head(20)"
   ]
  },
  {
   "cell_type": "markdown",
   "metadata": {},
   "source": [
    "### (b) Create Response Column\n",
    "\n",
    "Let's name our response column `bad_loan`, which will equal one if the loan was not completely paid off."
   ]
  },
  {
   "cell_type": "code",
   "execution_count": 12,
   "metadata": {},
   "outputs": [],
   "source": [
    "fully_paid = [\"Fully Paid\",\n",
    "              \"Does not meet the credit policy.  Status:Fully Paid\"\n",
    "             ]\n",
    "loans[\"bad_loan\"] = ~(loans[\"loan_status\"].isin(fully_paid))"
   ]
  },
  {
   "cell_type": "markdown",
   "metadata": {},
   "source": [
    "Next make the `bad_loan` column a factor so that we can build a classification model,"
   ]
  },
  {
   "cell_type": "code",
   "execution_count": 13,
   "metadata": {},
   "outputs": [],
   "source": [
    "loans[\"bad_loan\"] = loans[\"bad_loan\"].asfactor()"
   ]
  },
  {
   "cell_type": "markdown",
   "metadata": {},
   "source": [
    "The percentage of bad loans is given by"
   ]
  },
  {
   "cell_type": "code",
   "execution_count": 14,
   "metadata": {},
   "outputs": [
    {
     "data": {
      "text/html": [
       "<table>\n",
       "<thead>\n",
       "<tr><th style=\"text-align: right;\">  bad_loan</th><th style=\"text-align: right;\">  Count</th><th style=\"text-align: right;\">  Percentage</th></tr>\n",
       "</thead>\n",
       "<tbody>\n",
       "<tr><td style=\"text-align: right;\">         0</td><td style=\"text-align: right;\">  32776</td><td style=\"text-align: right;\">          84</td></tr>\n",
       "<tr><td style=\"text-align: right;\">         1</td><td style=\"text-align: right;\">   6204</td><td style=\"text-align: right;\">          16</td></tr>\n",
       "</tbody>\n",
       "</table>"
      ]
     },
     "metadata": {},
     "output_type": "display_data"
    },
    {
     "data": {
      "text/plain": []
     },
     "execution_count": 14,
     "metadata": {},
     "output_type": "execute_result"
    }
   ],
   "source": [
    "bad_loan_dist = loans[\"bad_loan\"].table()\n",
    "bad_loan_dist[\"Percentage\"] = (100 * bad_loan_dist[\"Count\"] / loans.nrow).round()\n",
    "bad_loan_dist"
   ]
  },
  {
   "cell_type": "markdown",
   "metadata": {},
   "source": [
    "## Part 2. Convert strings to numeric\n",
    "\n",
    "Consider the columns `int_rate`, `revol_util`, and `emp_length`:"
   ]
  },
  {
   "cell_type": "code",
   "execution_count": 15,
   "metadata": {},
   "outputs": [
    {
     "data": {
      "text/html": [
       "<table>\n",
       "<thead>\n",
       "<tr><th>int_rate  </th><th>revol_util  </th><th>emp_length  </th></tr>\n",
       "</thead>\n",
       "<tbody>\n",
       "<tr><td>10.65%    </td><td>83.7%       </td><td>10+ years   </td></tr>\n",
       "<tr><td>15.27%    </td><td>9.4%        </td><td>&lt; 1 year    </td></tr>\n",
       "<tr><td>15.96%    </td><td>98.5%       </td><td>10+ years   </td></tr>\n",
       "<tr><td>13.49%    </td><td>21%         </td><td>10+ years   </td></tr>\n",
       "<tr><td>7.90%     </td><td>28.3%       </td><td>3 years     </td></tr>\n",
       "<tr><td>18.64%    </td><td>87.5%       </td><td>9 years     </td></tr>\n",
       "<tr><td>21.28%    </td><td>32.6%       </td><td>4 years     </td></tr>\n",
       "<tr><td>12.69%    </td><td>36.5%       </td><td>&lt; 1 year    </td></tr>\n",
       "<tr><td>14.65%    </td><td>20.6%       </td><td>5 years     </td></tr>\n",
       "<tr><td>12.69%    </td><td>67.1%       </td><td>10+ years   </td></tr>\n",
       "</tbody>\n",
       "</table>"
      ]
     },
     "metadata": {},
     "output_type": "display_data"
    },
    {
     "data": {
      "text/plain": []
     },
     "execution_count": 15,
     "metadata": {},
     "output_type": "execute_result"
    }
   ],
   "source": [
    "loans[[\"int_rate\", \"revol_util\", \"emp_length\"]].head()"
   ]
  },
  {
   "cell_type": "markdown",
   "metadata": {},
   "source": [
    "Both `int_rate` and `revol_util` are inherently numeric but entered as percentages. Since they include a \"%\" sign, they are read in as strings. The solution for both of these columns is simple: strip the \"%\" sign and convert the strings to numeric.\n",
    "\n",
    "The `emp_length` column is only slightly more complex. Besides removing the \"year\" or \"years\" term, we have to deal with `< 1` and `10+`, which aren't directly numeric. If we define `< 1` as 0 and `10+` as 10, then `emp_length` can also be cast as numeric.\n",
    "\n",
    "We demonstrate the steps for converting these string variables into numeric values below.\n",
    "\n",
    "### Convert `int_rate`"
   ]
  },
  {
   "cell_type": "code",
   "execution_count": 16,
   "metadata": {},
   "outputs": [],
   "source": [
    "loans[\"int_rate\"] = loans[\"int_rate\"].gsub(pattern = \"%\", replacement = \"\") # strip %\n",
    "loans[\"int_rate\"] = loans[\"int_rate\"].trim() # trim whitespace\n",
    "loans[\"int_rate\"] = loans[\"int_rate\"].asnumeric() # change to numeric "
   ]
  },
  {
   "cell_type": "markdown",
   "metadata": {},
   "source": [
    "### Convert `revol_util`"
   ]
  },
  {
   "cell_type": "code",
   "execution_count": 17,
   "metadata": {},
   "outputs": [],
   "source": [
    "loans[\"revol_util\"] = loans[\"revol_util\"].gsub(pattern=\"%\", replacement=\"\") # strip %\n",
    "loans[\"revol_util\"] = loans[\"revol_util\"].trim() # trim whitespace\n",
    "loans[\"revol_util\"] = loans[\"revol_util\"].asnumeric() # change to numeric "
   ]
  },
  {
   "cell_type": "markdown",
   "metadata": {},
   "source": [
    "### Convert `emp_length`"
   ]
  },
  {
   "cell_type": "code",
   "execution_count": 18,
   "metadata": {},
   "outputs": [],
   "source": [
    "# Use gsub to remove \" year\" and \" years\"; also translate n/a to \"\" \n",
    "loans[\"emp_length\"] = loans[\"emp_length\"].gsub(pattern=\"([ ]*+[a-zA-Z].*)|(n/a)\", replacement=\"\") \n",
    "loans[\"emp_length\"] = loans[\"emp_length\"].trim() # trim whitespace\n",
    "\n",
    "loans[\"emp_length\"] = loans[\"emp_length\"].gsub(pattern=\"< 1\", replacement=\"0\") # convert \"< 1\" to 0\n",
    "loans[\"emp_length\"] = loans[\"emp_length\"].gsub(pattern=\"10\\\\+\", replacement=\"10\") # convert \"10+\" to 10\n",
    "loans[\"emp_length\"] = loans[\"emp_length\"].asnumeric() # trim whitespace"
   ]
  },
  {
   "cell_type": "markdown",
   "metadata": {},
   "source": [
    "These steps result in"
   ]
  },
  {
   "cell_type": "code",
   "execution_count": 19,
   "metadata": {},
   "outputs": [
    {
     "data": {
      "text/html": [
       "<table>\n",
       "<thead>\n",
       "<tr><th style=\"text-align: right;\">  int_rate</th><th style=\"text-align: right;\">  revol_util</th><th style=\"text-align: right;\">  emp_length</th></tr>\n",
       "</thead>\n",
       "<tbody>\n",
       "<tr><td style=\"text-align: right;\">     10.65</td><td style=\"text-align: right;\">        83.7</td><td style=\"text-align: right;\">          10</td></tr>\n",
       "<tr><td style=\"text-align: right;\">     15.27</td><td style=\"text-align: right;\">         9.4</td><td style=\"text-align: right;\">           0</td></tr>\n",
       "<tr><td style=\"text-align: right;\">     15.96</td><td style=\"text-align: right;\">        98.5</td><td style=\"text-align: right;\">          10</td></tr>\n",
       "<tr><td style=\"text-align: right;\">     13.49</td><td style=\"text-align: right;\">        21  </td><td style=\"text-align: right;\">          10</td></tr>\n",
       "<tr><td style=\"text-align: right;\">      7.9 </td><td style=\"text-align: right;\">        28.3</td><td style=\"text-align: right;\">           3</td></tr>\n",
       "<tr><td style=\"text-align: right;\">     18.64</td><td style=\"text-align: right;\">        87.5</td><td style=\"text-align: right;\">           9</td></tr>\n",
       "<tr><td style=\"text-align: right;\">     21.28</td><td style=\"text-align: right;\">        32.6</td><td style=\"text-align: right;\">           4</td></tr>\n",
       "<tr><td style=\"text-align: right;\">     12.69</td><td style=\"text-align: right;\">        36.5</td><td style=\"text-align: right;\">           0</td></tr>\n",
       "<tr><td style=\"text-align: right;\">     14.65</td><td style=\"text-align: right;\">        20.6</td><td style=\"text-align: right;\">           5</td></tr>\n",
       "<tr><td style=\"text-align: right;\">     12.69</td><td style=\"text-align: right;\">        67.1</td><td style=\"text-align: right;\">          10</td></tr>\n",
       "</tbody>\n",
       "</table>"
      ]
     },
     "metadata": {},
     "output_type": "display_data"
    },
    {
     "data": {
      "text/plain": []
     },
     "execution_count": 19,
     "metadata": {},
     "output_type": "execute_result"
    }
   ],
   "source": [
    "loans[[\"int_rate\", \"revol_util\", \"emp_length\"]].head()"
   ]
  },
  {
   "cell_type": "markdown",
   "metadata": {},
   "source": [
    "### Note: Interest rate distributions\n",
    "\n",
    "Now that we have converted interest rate to numeric, we can use the `hist` function to compare the interest rate distributions for good and bad loans."
   ]
  },
  {
   "cell_type": "code",
   "execution_count": 20,
   "metadata": {},
   "outputs": [
    {
     "name": "stdout",
     "output_type": "stream",
     "text": [
      "Bad Loans\n"
     ]
    },
    {
     "data": {
      "image/png": "[encoded data removed]",
      "text/plain": [
       "<Figure size 432x288 with 1 Axes>"
      ]
     },
     "metadata": {
      "needs_background": "light"
     },
     "output_type": "display_data"
    },
    {
     "name": "stdout",
     "output_type": "stream",
     "text": [
      "Good Loans\n"
     ]
    },
    {
     "data": {
      "image/png": "[encoded data removed]",
      "text/plain": [
       "<Figure size 432x288 with 1 Axes>"
      ]
     },
     "metadata": {
      "needs_background": "light"
     },
     "output_type": "display_data"
    }
   ],
   "source": [
    "%matplotlib inline\n",
    "\n",
    "print(\"Bad Loans\")\n",
    "loans[loans[\"bad_loan\"] == \"1\", \"int_rate\"].hist()\n",
    "\n",
    "print(\"Good Loans\")\n",
    "loans[loans[\"bad_loan\"] == \"0\", \"int_rate\"].hist()"
   ]
  },
  {
   "cell_type": "markdown",
   "metadata": {},
   "source": [
    "As expected, the bad loan distribution contains proportionately more high interest rate loans than the distribution for good loans. Likewise, the good loan distribution contains a higher proportion of low interest rate loans than that for bad loans. It would not surprise us if interest rate were a strong predictor of loan performance.\n",
    "\n",
    ">Financial institutions typically set a borrower's interest rate based on factors like estimated risk and customer demand. If the underwriting rules are any good at all, we would expect interest rate to be one of the best predictors of default. "
   ]
  },
  {
   "cell_type": "markdown",
   "metadata": {},
   "source": [
    "## Part 3. Clean up messy categorical columns\n",
    "\n",
    "Much as we did with the `loan_status` column, the `verification_status` column needs cleaning"
   ]
  },
  {
   "cell_type": "code",
   "execution_count": 21,
   "metadata": {},
   "outputs": [
    {
     "data": {
      "text/html": [
       "<table>\n",
       "<thead>\n",
       "<tr><th>verification_status     </th></tr>\n",
       "</thead>\n",
       "<tbody>\n",
       "<tr><td>VERIFIED - income       </td></tr>\n",
       "<tr><td>VERIFIED - income source</td></tr>\n",
       "<tr><td>not verified            </td></tr>\n",
       "<tr><td>VERIFIED - income source</td></tr>\n",
       "<tr><td>VERIFIED - income source</td></tr>\n",
       "<tr><td>VERIFIED - income source</td></tr>\n",
       "<tr><td>VERIFIED - income source</td></tr>\n",
       "<tr><td>VERIFIED - income       </td></tr>\n",
       "<tr><td>not verified            </td></tr>\n",
       "<tr><td>VERIFIED - income source</td></tr>\n",
       "</tbody>\n",
       "</table>"
      ]
     },
     "metadata": {},
     "output_type": "display_data"
    },
    {
     "data": {
      "text/plain": []
     },
     "execution_count": 21,
     "metadata": {},
     "output_type": "execute_result"
    }
   ],
   "source": [
    "loans[\"verification_status\"].head()"
   ]
  },
  {
   "cell_type": "markdown",
   "metadata": {},
   "source": [
    "Because there are multiple values that mean verified (\"VERIFIED - income\" and \"VERIFIED - income source\"), we replace them simply with \"verified\","
   ]
  },
  {
   "cell_type": "code",
   "execution_count": 22,
   "metadata": {},
   "outputs": [],
   "source": [
    "loans[\"verification_status\"] = loans[\"verification_status\"].sub(pattern=\"VERIFIED - income source\", \n",
    "                                                                replacement=\"verified\")\n",
    "loans[\"verification_status\"] = loans[\"verification_status\"].sub(pattern=\"VERIFIED - income\", \n",
    "                                                                replacement=\"verified\")\n",
    "loans[\"verification_status\"] = loans[\"verification_status\"].asfactor()"
   ]
  },
  {
   "cell_type": "markdown",
   "metadata": {},
   "source": [
    "resulting in"
   ]
  },
  {
   "cell_type": "code",
   "execution_count": 23,
   "metadata": {
    "scrolled": true
   },
   "outputs": [
    {
     "data": {
      "text/html": [
       "<table>\n",
       "<thead>\n",
       "<tr><th>verification_status  </th><th style=\"text-align: right;\">  Count</th></tr>\n",
       "</thead>\n",
       "<tbody>\n",
       "<tr><td>not verified         </td><td style=\"text-align: right;\">  17947</td></tr>\n",
       "<tr><td>verified             </td><td style=\"text-align: right;\">  21032</td></tr>\n",
       "</tbody>\n",
       "</table>"
      ]
     },
     "metadata": {},
     "output_type": "display_data"
    },
    {
     "data": {
      "text/plain": []
     },
     "execution_count": 23,
     "metadata": {},
     "output_type": "execute_result"
    }
   ],
   "source": [
    "loans[\"verification_status\"].table()"
   ]
  },
  {
   "cell_type": "markdown",
   "metadata": {},
   "source": [
    "# Step 4 (of 10).  Feature engineering\n",
    "\n",
    "Now that we have cleaned our data, we can extract information from our current columns to create new features. This process is referred to as _feature engineering_. The general idea is to express information found in our data in a manner that is most understandable to the algorithms we employ, with the goal of improving the performance of our supervised learning models.\n",
    "\n",
    "Feature engineering can be considered the \"secret sauce\" in building a superior predictive model: it is often (although not always) more important than the choice of machine learning algorithm. A very good summary of feature engineering recipes can be found in the online [Driverless AI Documentation](http://docs.h2o.ai/driverless-ai/latest-stable/docs/userguide/transformations.html). \n",
    "\n",
    "We will do some basic feature engineering using the date fields in our data, and then use NLP (natural language processing) to create word embedding features from the loan description text field in our data.\n",
    "\n",
    "The new columns we will create are: \n",
    "* `credit_length`: the number of years someone has had a credit history\n",
    "* `issue_d_year` and `issue_d_month`: the year and month from the loan issue date\n",
    "* word embeddings from the loan description\n",
    "\n",
    "### Credit Length\n",
    "\n",
    "We create the `credit_length` feature by subtracting the year of a customer's earliest credit line from the year they were issued the loan."
   ]
  },
  {
   "cell_type": "code",
   "execution_count": 24,
   "metadata": {},
   "outputs": [
    {
     "data": {
      "text/html": [
       "<table>\n",
       "<thead>\n",
       "<tr><th style=\"text-align: right;\">  credit_length</th></tr>\n",
       "</thead>\n",
       "<tbody>\n",
       "<tr><td style=\"text-align: right;\">             26</td></tr>\n",
       "<tr><td style=\"text-align: right;\">             12</td></tr>\n",
       "<tr><td style=\"text-align: right;\">             10</td></tr>\n",
       "<tr><td style=\"text-align: right;\">             15</td></tr>\n",
       "<tr><td style=\"text-align: right;\">              7</td></tr>\n",
       "<tr><td style=\"text-align: right;\">              4</td></tr>\n",
       "<tr><td style=\"text-align: right;\">              7</td></tr>\n",
       "<tr><td style=\"text-align: right;\">              7</td></tr>\n",
       "<tr><td style=\"text-align: right;\">             13</td></tr>\n",
       "<tr><td style=\"text-align: right;\">             22</td></tr>\n",
       "</tbody>\n",
       "</table>"
      ]
     },
     "metadata": {},
     "output_type": "display_data"
    },
    {
     "data": {
      "text/plain": []
     },
     "execution_count": 24,
     "metadata": {},
     "output_type": "execute_result"
    }
   ],
   "source": [
    "loans[\"credit_length\"] = loans[\"issue_d\"].year() - loans[\"earliest_cr_line\"].year()\n",
    "loans[\"credit_length\"].head()"
   ]
  },
  {
   "cell_type": "markdown",
   "metadata": {},
   "source": [
    "### Issue Date Expansion\n",
    "\n",
    "We next extract the year and month from the issue date.  We may find that the month or the year when the loan was issued will impact the probability of a bad loan. Additionally, since months are cyclical we will treat `issue_d_month` as a factor."
   ]
  },
  {
   "cell_type": "code",
   "execution_count": 25,
   "metadata": {},
   "outputs": [
    {
     "data": {
      "text/html": [
       "<table>\n",
       "<thead>\n",
       "<tr><th style=\"text-align: right;\">  issue_d_year</th><th style=\"text-align: right;\">  issue_d_month</th></tr>\n",
       "</thead>\n",
       "<tbody>\n",
       "<tr><td style=\"text-align: right;\">          2011</td><td style=\"text-align: right;\">             12</td></tr>\n",
       "<tr><td style=\"text-align: right;\">          2011</td><td style=\"text-align: right;\">             12</td></tr>\n",
       "<tr><td style=\"text-align: right;\">          2011</td><td style=\"text-align: right;\">             12</td></tr>\n",
       "<tr><td style=\"text-align: right;\">          2011</td><td style=\"text-align: right;\">             12</td></tr>\n",
       "<tr><td style=\"text-align: right;\">          2011</td><td style=\"text-align: right;\">             12</td></tr>\n",
       "<tr><td style=\"text-align: right;\">          2011</td><td style=\"text-align: right;\">             12</td></tr>\n",
       "<tr><td style=\"text-align: right;\">          2011</td><td style=\"text-align: right;\">             12</td></tr>\n",
       "<tr><td style=\"text-align: right;\">          2011</td><td style=\"text-align: right;\">             12</td></tr>\n",
       "<tr><td style=\"text-align: right;\">          2011</td><td style=\"text-align: right;\">             12</td></tr>\n",
       "<tr><td style=\"text-align: right;\">          2011</td><td style=\"text-align: right;\">             12</td></tr>\n",
       "</tbody>\n",
       "</table>"
      ]
     },
     "metadata": {},
     "output_type": "display_data"
    },
    {
     "data": {
      "text/plain": []
     },
     "execution_count": 25,
     "metadata": {},
     "output_type": "execute_result"
    }
   ],
   "source": [
    "loans[\"issue_d_year\"] = loans[\"issue_d\"].year()\n",
    "loans[\"issue_d_month\"] = loans[\"issue_d\"].month().asfactor()\n",
    "\n",
    "loans[[\"issue_d_year\", \"issue_d_month\"]].head()"
   ]
  },
  {
   "cell_type": "markdown",
   "metadata": {},
   "source": [
    "### Word Embeddings\n",
    "\n",
    "One of the columns in our dataset is a user-provided description of why the loan was requested. The first few descriptions in the dataset are shown below."
   ]
  },
  {
   "cell_type": "code",
   "execution_count": 26,
   "metadata": {},
   "outputs": [
    {
     "data": {
      "text/html": [
       "<table>\n",
       "<thead>\n",
       "<tr><th>desc                                                                                                                                                                                                                                                                                                                                                                                                                                                                                                                                                                                                        </th></tr>\n",
       "</thead>\n",
       "<tbody>\n",
       "<tr><td>Borrower added on 12/22/11 &gt; I need to upgrade my business technologies.&lt;br&gt;                                                                                                                                                                                                                                                                                                                                                                                                                                                                                                                                </td></tr>\n",
       "<tr><td>Borrower added on 12/22/11 &gt; I plan to use this money to finance the motorcycle i am looking at. I plan to have it paid off as soon as possible/when i sell my old bike. I only need this money because the deal im looking at is to good to pass up.&lt;br&gt;&lt;br&gt;  Borrower added on 12/22/11 &gt; I plan to use this money to finance the motorcycle i am looking at. I plan to have it paid off as soon as possible/when i sell my old bike.I only need this money because the deal im looking at is to good to pass up. I have finished college with an associates degree in business and its takingmeplaces&lt;br&gt;</td></tr>\n",
       "<tr><td>                                                                                                                                                                                                                                                                                                                                                                                                                                                                                                                                                                                                            </td></tr>\n",
       "<tr><td>Borrower added on 12/21/11 &gt; to pay for property tax (borrow from friend, need to pay back) &amp; central A/C need to be replace. I&#x27;m very sorry to let my loan expired last time.&lt;br&gt;                                                                                                                                                                                                                                                                                                                                                                                                                          </td></tr>\n",
       "<tr><td>                                                                                                                                                                                                                                                                                                                                                                                                                                                                                                                                                                                                            </td></tr>\n",
       "<tr><td>Borrower added on 12/16/11 &gt; Downpayment for a car.&lt;br&gt;                                                                                                                                                                                                                                                                                                                                                                                                                                                                                                                                                     </td></tr>\n",
       "<tr><td>Borrower added on 12/21/11 &gt; I own a small home-based judgment collection business. I have 5 years experience collecting debts. I am now going from a home office to a small office. I also plan to buy a small debt portfolio (eg. $10K for $1M of debt) &lt;br&gt;My score is not A+ because I own my home and have no mortgage.&lt;br&gt;                                                                                                                                                                                                                                                                            </td></tr>\n",
       "<tr><td>Borrower added on 12/16/11 &gt; I&#x27;m trying to build up my credit history. I live with my brother and have no car payment or credit cards. I am in community college and work full time. Im going to use the money to make some repairs around the house and get some maintenance done on my car.&lt;br&gt;&lt;br&gt;  Borrower added on 12/20/11 &gt; $1000 down only $4375 to go. Thanks to everyone that invested so far, looking forward to surprising my brother with the fixes around the house.&lt;br&gt;                                                                                                                     </td></tr>\n",
       "<tr><td>Borrower added on 12/15/11 &gt; I had recived a loan from Citi Financial about a year ago, I was paying 29.99 intrest, so the refinance is to cut that rate since cleaning up my credit I have been paying everything on time as shown on my credit report&lt;br&gt;                                                                                                                                                                                                                                                                                                                                                 </td></tr>\n",
       "<tr><td>                                                                                                                                                                                                                                                                                                                                                                                                                                                                                                                                                                                                            </td></tr>\n",
       "</tbody>\n",
       "</table>"
      ]
     },
     "metadata": {},
     "output_type": "display_data"
    },
    {
     "data": {
      "text/plain": []
     },
     "execution_count": 26,
     "metadata": {},
     "output_type": "execute_result"
    }
   ],
   "source": [
    "loans[\"desc\"].head()"
   ]
  },
  {
   "cell_type": "markdown",
   "metadata": {},
   "source": [
    "The descriptions may contain information that would assist in predicting default, but supervised learning algorithms in general have a hard time understanding text. We need to convert these strings into a numeric representation of the text in order for our algorithms to operate on it. There are multiple choices for doing so, in this example we will use the Word2Vec algorithm.\n",
    "\n",
    "We start by defining stop words (terms that are considered too frequent to carry much information) "
   ]
  },
  {
   "cell_type": "code",
   "execution_count": 27,
   "metadata": {},
   "outputs": [],
   "source": [
    "STOP_WORDS = [\"ax\",\"i\",\"you\",\"edu\",\"s\",\"t\",\"m\",\"subject\",\"can\",\"lines\",\"re\",\"what\",\n",
    "              \"there\",\"all\",\"we\",\"one\",\"the\",\"a\",\"an\",\"of\",\"or\",\"in\",\"for\",\"by\",\"on\",\n",
    "              \"but\",\"is\",\"in\",\"a\",\"not\",\"with\",\"as\",\"was\",\"if\",\"they\",\"are\",\"this\",\"and\",\"it\",\"have\",\n",
    "              \"from\",\"at\",\"my\",\"be\",\"by\",\"not\",\"that\",\"to\",\"from\",\"com\",\"org\",\"like\",\"likes\",\"so\"]"
   ]
  },
  {
   "cell_type": "markdown",
   "metadata": {},
   "source": [
    "We next _tokenize_ the descriptions by breaking the text into individual words"
   ]
  },
  {
   "cell_type": "code",
   "execution_count": 28,
   "metadata": {},
   "outputs": [],
   "source": [
    "def tokenize(sentences, stop_word = STOP_WORDS):\n",
    "    tokenized = sentences.tokenize(\"\\\\W+\")\n",
    "    tokenized_lower = tokenized.tolower()\n",
    "    tokenized_filtered = tokenized_lower[(tokenized_lower.nchar() >= 2) | (tokenized_lower.isna()),:]\n",
    "    tokenized_words = tokenized_filtered[tokenized_filtered.grep(\"[0-9]\",invert=True,output_logical=True),:]\n",
    "    tokenized_words = tokenized_words[(tokenized_words.isna()) | (~ tokenized_words.isin(STOP_WORDS)),:]\n",
    "    return tokenized_words\n",
    "\n",
    "words = tokenize(loans[\"desc\"].ascharacter())"
   ]
  },
  {
   "cell_type": "markdown",
   "metadata": {},
   "source": [
    "Then we train our Word2Vec model on the words extracted from our descriptions. We choose an output vector size of 100.\n",
    "\n",
    ">What does Word2Vec do? At a high level, it is a dimensionality reduction method for numerical representations of text. But it reduces dimensionality while preserving relationships between words in the text.\n",
    ">\n",
    ">Suppose we were to create a dictionary of all the words in our descriptions, and further suppose that dictionary contained 2500 unique words. At one extreme, we could create an indicator variable for each word (i.e., one-hot encoding). This would yield 2500 new features that would certainly lead to massive overfitting of models.\n",
    ">\n",
    ">At the other extreme, suppose we had someone classify those words into different groups and create indicator variables for each group: e.g., `risky_words` (\"bankruptcy\", \"default\", \"forfeit\", \"lien\", etc.), `angry_words` (profanity, \"complaint\", etc.), and so on. This reduces dimensionality by manually grouping words, but it is extremely labor intensive.\n",
    ">\n",
    ">Word2Vec starts with the entire dictionary size $K$ as inputs and the selected vector size $k$ as the target number of outputs. Passing through the intermediate layer(s) of the Word2Vec neural net, a $k$-dimensional numeric representation of each word is derived. "
   ]
  },
  {
   "cell_type": "code",
   "execution_count": 29,
   "metadata": {},
   "outputs": [
    {
     "name": "stdout",
     "output_type": "stream",
     "text": [
      "word2vec Model Build progress: |██████████████████████████████████████████| 100%\n"
     ]
    }
   ],
   "source": [
    "from h2o.estimators.word2vec import H2OWord2vecEstimator\n",
    "\n",
    "w2v_model = H2OWord2vecEstimator(vec_size=100, model_id=\"w2v\")\n",
    "w2v_model.train(training_frame=words)"
   ]
  },
  {
   "cell_type": "markdown",
   "metadata": {},
   "source": [
    "One way we quickly sanity check the Word2Vec model is by finding synonyms for specified words, e.g., \"car\""
   ]
  },
  {
   "cell_type": "code",
   "execution_count": 30,
   "metadata": {},
   "outputs": [
    {
     "data": {
      "text/plain": [
       "OrderedDict([('auto', 0.7299379706382751),\n",
       "             ('prius', 0.6815643906593323),\n",
       "             ('lexus', 0.6762170195579529),\n",
       "             ('camry', 0.6664002537727356),\n",
       "             ('tahoe', 0.6482592225074768)])"
      ]
     },
     "execution_count": 30,
     "metadata": {},
     "output_type": "execute_result"
    }
   ],
   "source": [
    "w2v_model.find_synonyms(\"car\", count=5)"
   ]
  },
  {
   "cell_type": "markdown",
   "metadata": {},
   "source": [
    "Assuming we are satisfied with our Word2Vec model results, we next calculate a vector for each description by averaging over all of the words in that description"
   ]
  },
  {
   "cell_type": "code",
   "execution_count": 31,
   "metadata": {
    "scrolled": true
   },
   "outputs": [
    {
     "data": {
      "text/html": [
       "<table>\n",
       "<thead>\n",
       "<tr><th style=\"text-align: right;\">         C1</th><th style=\"text-align: right;\">         C2</th><th style=\"text-align: right;\">          C3</th><th style=\"text-align: right;\">         C4</th><th style=\"text-align: right;\">         C5</th><th style=\"text-align: right;\">          C6</th><th style=\"text-align: right;\">         C7</th><th style=\"text-align: right;\">         C8</th><th style=\"text-align: right;\">         C9</th><th style=\"text-align: right;\">        C10</th><th style=\"text-align: right;\">        C11</th><th style=\"text-align: right;\">       C12</th><th style=\"text-align: right;\">        C13</th><th style=\"text-align: right;\">        C14</th><th style=\"text-align: right;\">       C15</th><th style=\"text-align: right;\">          C16</th><th style=\"text-align: right;\">         C17</th><th style=\"text-align: right;\">        C18</th><th style=\"text-align: right;\">         C19</th><th style=\"text-align: right;\">        C20</th><th style=\"text-align: right;\">        C21</th><th style=\"text-align: right;\">        C22</th><th style=\"text-align: right;\">        C23</th><th style=\"text-align: right;\">        C24</th><th style=\"text-align: right;\">         C25</th><th style=\"text-align: right;\">          C26</th><th style=\"text-align: right;\">       C27</th><th style=\"text-align: right;\">        C28</th><th style=\"text-align: right;\">        C29</th><th style=\"text-align: right;\">         C30</th><th style=\"text-align: right;\">        C31</th><th style=\"text-align: right;\">         C32</th><th style=\"text-align: right;\">          C33</th><th style=\"text-align: right;\">       C34</th><th style=\"text-align: right;\">        C35</th><th style=\"text-align: right;\">         C36</th><th style=\"text-align: right;\">       C37</th><th style=\"text-align: right;\">        C38</th><th style=\"text-align: right;\">        C39</th><th style=\"text-align: right;\">        C40</th><th style=\"text-align: right;\">        C41</th><th style=\"text-align: right;\">        C42</th><th style=\"text-align: right;\">        C43</th><th style=\"text-align: right;\">        C44</th><th style=\"text-align: right;\">        C45</th><th style=\"text-align: right;\">         C46</th><th style=\"text-align: right;\">       C47</th><th style=\"text-align: right;\">         C48</th><th style=\"text-align: right;\">          C49</th><th style=\"text-align: right;\">        C50</th><th style=\"text-align: right;\">        C51</th><th style=\"text-align: right;\">         C52</th><th style=\"text-align: right;\">         C53</th><th style=\"text-align: right;\">        C54</th><th style=\"text-align: right;\">        C55</th><th style=\"text-align: right;\">        C56</th><th style=\"text-align: right;\">       C57</th><th style=\"text-align: right;\">        C58</th><th style=\"text-align: right;\">         C59</th><th style=\"text-align: right;\">       C60</th><th style=\"text-align: right;\">        C61</th><th style=\"text-align: right;\">          C62</th><th style=\"text-align: right;\">        C63</th><th style=\"text-align: right;\">        C64</th><th style=\"text-align: right;\">        C65</th><th style=\"text-align: right;\">        C66</th><th style=\"text-align: right;\">        C67</th><th style=\"text-align: right;\">        C68</th><th style=\"text-align: right;\">         C69</th><th style=\"text-align: right;\">         C70</th><th style=\"text-align: right;\">        C71</th><th style=\"text-align: right;\">        C72</th><th style=\"text-align: right;\">       C73</th><th style=\"text-align: right;\">        C74</th><th style=\"text-align: right;\">         C75</th><th style=\"text-align: right;\">        C76</th><th style=\"text-align: right;\">        C77</th><th style=\"text-align: right;\">         C78</th><th style=\"text-align: right;\">         C79</th><th style=\"text-align: right;\">        C80</th><th style=\"text-align: right;\">        C81</th><th style=\"text-align: right;\">         C82</th><th style=\"text-align: right;\">        C83</th><th style=\"text-align: right;\">       C84</th><th style=\"text-align: right;\">        C85</th><th style=\"text-align: right;\">         C86</th><th style=\"text-align: right;\">         C87</th><th style=\"text-align: right;\">        C88</th><th style=\"text-align: right;\">        C89</th><th style=\"text-align: right;\">        C90</th><th style=\"text-align: right;\">          C91</th><th style=\"text-align: right;\">         C92</th><th style=\"text-align: right;\">        C93</th><th style=\"text-align: right;\">         C94</th><th style=\"text-align: right;\">        C95</th><th style=\"text-align: right;\">        C96</th><th style=\"text-align: right;\">         C97</th><th style=\"text-align: right;\">        C98</th><th style=\"text-align: right;\">         C99</th><th style=\"text-align: right;\">       C100</th></tr>\n",
       "</thead>\n",
       "<tbody>\n",
       "<tr><td style=\"text-align: right;\">  0.1569   </td><td style=\"text-align: right;\">  0.0917783</td><td style=\"text-align: right;\">  0.115373  </td><td style=\"text-align: right;\"> -0.0338863</td><td style=\"text-align: right;\">  0.0566152</td><td style=\"text-align: right;\">  0.0717367 </td><td style=\"text-align: right;\">  0.0702481</td><td style=\"text-align: right;\">  0.0841752</td><td style=\"text-align: right;\"> -0.0581018</td><td style=\"text-align: right;\">  0.0159338</td><td style=\"text-align: right;\">  0.0765138</td><td style=\"text-align: right;\">  0.150959</td><td style=\"text-align: right;\"> -0.177845 </td><td style=\"text-align: right;\">  0.0679589</td><td style=\"text-align: right;\"> -0.248922</td><td style=\"text-align: right;\"> -0.140308   </td><td style=\"text-align: right;\">  0.00940761</td><td style=\"text-align: right;\"> -0.0554502</td><td style=\"text-align: right;\">  0.0763662 </td><td style=\"text-align: right;\">  0.0960541</td><td style=\"text-align: right;\">  0.116275 </td><td style=\"text-align: right;\">  0.142224 </td><td style=\"text-align: right;\">  0.0322963</td><td style=\"text-align: right;\"> -0.220136 </td><td style=\"text-align: right;\">  0.0672981 </td><td style=\"text-align: right;\"> -0.074464   </td><td style=\"text-align: right;\"> -0.274935</td><td style=\"text-align: right;\"> -0.0954874</td><td style=\"text-align: right;\">  0.162987 </td><td style=\"text-align: right;\">  0.0554792 </td><td style=\"text-align: right;\"> -0.0285099</td><td style=\"text-align: right;\">  0.0052118 </td><td style=\"text-align: right;\"> -0.0593492  </td><td style=\"text-align: right;\"> -0.146835</td><td style=\"text-align: right;\"> -0.10637  </td><td style=\"text-align: right;\"> -0.0969891 </td><td style=\"text-align: right;\"> -0.225723</td><td style=\"text-align: right;\"> -0.0799466</td><td style=\"text-align: right;\"> -0.0106089</td><td style=\"text-align: right;\">  0.029022 </td><td style=\"text-align: right;\">  0.0608748</td><td style=\"text-align: right;\"> -0.0733228</td><td style=\"text-align: right;\">  0.0494262</td><td style=\"text-align: right;\"> -0.0484962</td><td style=\"text-align: right;\">  0.120783 </td><td style=\"text-align: right;\"> -0.0302187 </td><td style=\"text-align: right;\"> -0.200818</td><td style=\"text-align: right;\"> -0.0422789 </td><td style=\"text-align: right;\">  0.0471193  </td><td style=\"text-align: right;\">  0.0228818</td><td style=\"text-align: right;\"> -0.293265 </td><td style=\"text-align: right;\">  0.107963  </td><td style=\"text-align: right;\">  0.0575849 </td><td style=\"text-align: right;\"> -0.0581704</td><td style=\"text-align: right;\"> -0.0691263</td><td style=\"text-align: right;\">  0.0554894</td><td style=\"text-align: right;\"> -0.139388</td><td style=\"text-align: right;\">  0.115562 </td><td style=\"text-align: right;\"> -0.00504188</td><td style=\"text-align: right;\"> -0.229942</td><td style=\"text-align: right;\"> -0.177888 </td><td style=\"text-align: right;\"> -0.000155609</td><td style=\"text-align: right;\"> -0.0822879</td><td style=\"text-align: right;\"> -0.124496 </td><td style=\"text-align: right;\"> -0.12607  </td><td style=\"text-align: right;\"> -0.0213312</td><td style=\"text-align: right;\">  0.0873779</td><td style=\"text-align: right;\"> -0.128455 </td><td style=\"text-align: right;\">  0.0142981 </td><td style=\"text-align: right;\"> -0.0520941 </td><td style=\"text-align: right;\">  0.0763048</td><td style=\"text-align: right;\">  0.171824 </td><td style=\"text-align: right;\">  0.303564</td><td style=\"text-align: right;\"> -0.115806 </td><td style=\"text-align: right;\"> -0.0447622 </td><td style=\"text-align: right;\"> -0.0819382</td><td style=\"text-align: right;\">  0.0300078</td><td style=\"text-align: right;\"> -0.146405  </td><td style=\"text-align: right;\"> -0.107503  </td><td style=\"text-align: right;\">  0.0684212</td><td style=\"text-align: right;\">  0.108875 </td><td style=\"text-align: right;\">  0.00217542</td><td style=\"text-align: right;\"> -0.147382 </td><td style=\"text-align: right;\">  0.219772</td><td style=\"text-align: right;\"> -0.0589686</td><td style=\"text-align: right;\"> -0.0478945 </td><td style=\"text-align: right;\">  0.0875026 </td><td style=\"text-align: right;\">  0.0933475</td><td style=\"text-align: right;\"> -0.0337898</td><td style=\"text-align: right;\"> -0.0260046</td><td style=\"text-align: right;\"> -0.0207514  </td><td style=\"text-align: right;\"> -0.26567   </td><td style=\"text-align: right;\"> -0.159132 </td><td style=\"text-align: right;\">  0.0380517 </td><td style=\"text-align: right;\"> -0.0487481</td><td style=\"text-align: right;\"> -0.137535 </td><td style=\"text-align: right;\">  0.07742   </td><td style=\"text-align: right;\"> -0.125715 </td><td style=\"text-align: right;\"> -0.00999652</td><td style=\"text-align: right;\">  0.0400608</td></tr>\n",
       "<tr><td style=\"text-align: right;\">  0.0948749</td><td style=\"text-align: right;\">  0.0461954</td><td style=\"text-align: right;\">  0.0480034 </td><td style=\"text-align: right;\"> -0.0980107</td><td style=\"text-align: right;\">  0.0218521</td><td style=\"text-align: right;\">  0.0585226 </td><td style=\"text-align: right;\">  0.0283514</td><td style=\"text-align: right;\">  0.244356 </td><td style=\"text-align: right;\">  0.0195643</td><td style=\"text-align: right;\"> -0.016414 </td><td style=\"text-align: right;\">  0.0286203</td><td style=\"text-align: right;\">  0.26556 </td><td style=\"text-align: right;\"> -0.0818991</td><td style=\"text-align: right;\"> -0.191218 </td><td style=\"text-align: right;\"> -0.401958</td><td style=\"text-align: right;\"> -0.00167755 </td><td style=\"text-align: right;\">  0.102813  </td><td style=\"text-align: right;\"> -0.0383707</td><td style=\"text-align: right;\"> -0.0661371 </td><td style=\"text-align: right;\"> -0.0788671</td><td style=\"text-align: right;\">  0.0984475</td><td style=\"text-align: right;\">  0.134534 </td><td style=\"text-align: right;\"> -0.045553 </td><td style=\"text-align: right;\"> -0.0876101</td><td style=\"text-align: right;\"> -0.0235118 </td><td style=\"text-align: right;\">  0.0347316  </td><td style=\"text-align: right;\"> -0.352866</td><td style=\"text-align: right;\">  0.0345739</td><td style=\"text-align: right;\">  0.0505002</td><td style=\"text-align: right;\"> -0.00080768</td><td style=\"text-align: right;\"> -0.102346 </td><td style=\"text-align: right;\">  0.0403715 </td><td style=\"text-align: right;\">  0.044021   </td><td style=\"text-align: right;\"> -0.154068</td><td style=\"text-align: right;\"> -0.0322064</td><td style=\"text-align: right;\">  0.0209096 </td><td style=\"text-align: right;\"> -0.162632</td><td style=\"text-align: right;\"> -0.0545294</td><td style=\"text-align: right;\"> -0.0363612</td><td style=\"text-align: right;\"> -0.0444906</td><td style=\"text-align: right;\"> -0.0752263</td><td style=\"text-align: right;\"> -0.128192 </td><td style=\"text-align: right;\">  0.0379584</td><td style=\"text-align: right;\"> -0.0527835</td><td style=\"text-align: right;\">  0.0196019</td><td style=\"text-align: right;\"> -0.0236572 </td><td style=\"text-align: right;\"> -0.213607</td><td style=\"text-align: right;\">  0.0846796 </td><td style=\"text-align: right;\"> -0.0333762  </td><td style=\"text-align: right;\"> -0.0244911</td><td style=\"text-align: right;\"> -0.141399 </td><td style=\"text-align: right;\">  0.0835037 </td><td style=\"text-align: right;\">  0.00526606</td><td style=\"text-align: right;\">  0.054355 </td><td style=\"text-align: right;\">  0.0518191</td><td style=\"text-align: right;\">  0.0424563</td><td style=\"text-align: right;\"> -0.196715</td><td style=\"text-align: right;\">  0.122129 </td><td style=\"text-align: right;\">  0.00376511</td><td style=\"text-align: right;\"> -0.127982</td><td style=\"text-align: right;\"> -0.161718 </td><td style=\"text-align: right;\">  0.0154495  </td><td style=\"text-align: right;\">  0.0403027</td><td style=\"text-align: right;\"> -0.106941 </td><td style=\"text-align: right;\">  0.0323205</td><td style=\"text-align: right;\">  0.0670804</td><td style=\"text-align: right;\">  0.0280895</td><td style=\"text-align: right;\"> -0.0822464</td><td style=\"text-align: right;\">  0.0115271 </td><td style=\"text-align: right;\">  0.0269277 </td><td style=\"text-align: right;\">  0.0687513</td><td style=\"text-align: right;\">  0.0935805</td><td style=\"text-align: right;\">  0.200429</td><td style=\"text-align: right;\"> -0.0985836</td><td style=\"text-align: right;\">  0.137488  </td><td style=\"text-align: right;\"> -0.0648057</td><td style=\"text-align: right;\"> -0.116537 </td><td style=\"text-align: right;\"> -0.0433527 </td><td style=\"text-align: right;\">  0.0203273 </td><td style=\"text-align: right;\"> -0.0312453</td><td style=\"text-align: right;\">  0.0761664</td><td style=\"text-align: right;\">  0.00421633</td><td style=\"text-align: right;\"> -0.0880803</td><td style=\"text-align: right;\">  0.118613</td><td style=\"text-align: right;\">  0.0575723</td><td style=\"text-align: right;\">  0.0518213 </td><td style=\"text-align: right;\"> -0.044996  </td><td style=\"text-align: right;\">  0.022341 </td><td style=\"text-align: right;\"> -0.0180393</td><td style=\"text-align: right;\">  0.0374242</td><td style=\"text-align: right;\">  0.000946258</td><td style=\"text-align: right;\"> -0.181643  </td><td style=\"text-align: right;\"> -0.131307 </td><td style=\"text-align: right;\">  0.0632172 </td><td style=\"text-align: right;\">  0.0321865</td><td style=\"text-align: right;\"> -0.0932442</td><td style=\"text-align: right;\">  0.00599087</td><td style=\"text-align: right;\"> -0.164194 </td><td style=\"text-align: right;\"> -0.133889  </td><td style=\"text-align: right;\">  0.0585286</td></tr>\n",
       "<tr><td style=\"text-align: right;\">nan        </td><td style=\"text-align: right;\">nan        </td><td style=\"text-align: right;\">nan         </td><td style=\"text-align: right;\">nan        </td><td style=\"text-align: right;\">nan        </td><td style=\"text-align: right;\">nan         </td><td style=\"text-align: right;\">nan        </td><td style=\"text-align: right;\">nan        </td><td style=\"text-align: right;\">nan        </td><td style=\"text-align: right;\">nan        </td><td style=\"text-align: right;\">nan        </td><td style=\"text-align: right;\">nan       </td><td style=\"text-align: right;\">nan        </td><td style=\"text-align: right;\">nan        </td><td style=\"text-align: right;\">nan       </td><td style=\"text-align: right;\">nan          </td><td style=\"text-align: right;\">nan         </td><td style=\"text-align: right;\">nan        </td><td style=\"text-align: right;\">nan         </td><td style=\"text-align: right;\">nan        </td><td style=\"text-align: right;\">nan        </td><td style=\"text-align: right;\">nan        </td><td style=\"text-align: right;\">nan        </td><td style=\"text-align: right;\">nan        </td><td style=\"text-align: right;\">nan         </td><td style=\"text-align: right;\">nan          </td><td style=\"text-align: right;\">nan       </td><td style=\"text-align: right;\">nan        </td><td style=\"text-align: right;\">nan        </td><td style=\"text-align: right;\">nan         </td><td style=\"text-align: right;\">nan        </td><td style=\"text-align: right;\">nan         </td><td style=\"text-align: right;\">nan          </td><td style=\"text-align: right;\">nan       </td><td style=\"text-align: right;\">nan        </td><td style=\"text-align: right;\">nan         </td><td style=\"text-align: right;\">nan       </td><td style=\"text-align: right;\">nan        </td><td style=\"text-align: right;\">nan        </td><td style=\"text-align: right;\">nan        </td><td style=\"text-align: right;\">nan        </td><td style=\"text-align: right;\">nan        </td><td style=\"text-align: right;\">nan        </td><td style=\"text-align: right;\">nan        </td><td style=\"text-align: right;\">nan        </td><td style=\"text-align: right;\">nan         </td><td style=\"text-align: right;\">nan       </td><td style=\"text-align: right;\">nan         </td><td style=\"text-align: right;\">nan          </td><td style=\"text-align: right;\">nan        </td><td style=\"text-align: right;\">nan        </td><td style=\"text-align: right;\">nan         </td><td style=\"text-align: right;\">nan         </td><td style=\"text-align: right;\">nan        </td><td style=\"text-align: right;\">nan        </td><td style=\"text-align: right;\">nan        </td><td style=\"text-align: right;\">nan       </td><td style=\"text-align: right;\">nan        </td><td style=\"text-align: right;\">nan         </td><td style=\"text-align: right;\">nan       </td><td style=\"text-align: right;\">nan        </td><td style=\"text-align: right;\">nan          </td><td style=\"text-align: right;\">nan        </td><td style=\"text-align: right;\">nan        </td><td style=\"text-align: right;\">nan        </td><td style=\"text-align: right;\">nan        </td><td style=\"text-align: right;\">nan        </td><td style=\"text-align: right;\">nan        </td><td style=\"text-align: right;\">nan         </td><td style=\"text-align: right;\">nan         </td><td style=\"text-align: right;\">nan        </td><td style=\"text-align: right;\">nan        </td><td style=\"text-align: right;\">nan       </td><td style=\"text-align: right;\">nan        </td><td style=\"text-align: right;\">nan         </td><td style=\"text-align: right;\">nan        </td><td style=\"text-align: right;\">nan        </td><td style=\"text-align: right;\">nan         </td><td style=\"text-align: right;\">nan         </td><td style=\"text-align: right;\">nan        </td><td style=\"text-align: right;\">nan        </td><td style=\"text-align: right;\">nan         </td><td style=\"text-align: right;\">nan        </td><td style=\"text-align: right;\">nan       </td><td style=\"text-align: right;\">nan        </td><td style=\"text-align: right;\">nan         </td><td style=\"text-align: right;\">nan         </td><td style=\"text-align: right;\">nan        </td><td style=\"text-align: right;\">nan        </td><td style=\"text-align: right;\">nan        </td><td style=\"text-align: right;\">nan          </td><td style=\"text-align: right;\">nan         </td><td style=\"text-align: right;\">nan        </td><td style=\"text-align: right;\">nan         </td><td style=\"text-align: right;\">nan        </td><td style=\"text-align: right;\">nan        </td><td style=\"text-align: right;\">nan         </td><td style=\"text-align: right;\">nan        </td><td style=\"text-align: right;\">nan         </td><td style=\"text-align: right;\">nan        </td></tr>\n",
       "<tr><td style=\"text-align: right;\">  0.165635 </td><td style=\"text-align: right;\"> -0.0138259</td><td style=\"text-align: right;\">  0.0645425 </td><td style=\"text-align: right;\"> -0.14433  </td><td style=\"text-align: right;\">  0.0554321</td><td style=\"text-align: right;\">  0.0319883 </td><td style=\"text-align: right;\">  0.0843239</td><td style=\"text-align: right;\">  0.202716 </td><td style=\"text-align: right;\">  0.130539 </td><td style=\"text-align: right;\"> -0.0013036</td><td style=\"text-align: right;\">  0.0625805</td><td style=\"text-align: right;\">  0.227883</td><td style=\"text-align: right;\"> -0.0255172</td><td style=\"text-align: right;\"> -0.16746  </td><td style=\"text-align: right;\"> -0.333353</td><td style=\"text-align: right;\"> -0.0600507  </td><td style=\"text-align: right;\">  0.0170636 </td><td style=\"text-align: right;\"> -0.0367674</td><td style=\"text-align: right;\">  0.0580298 </td><td style=\"text-align: right;\">  0.0185374</td><td style=\"text-align: right;\">  0.107334 </td><td style=\"text-align: right;\">  0.137869 </td><td style=\"text-align: right;\"> -0.0442438</td><td style=\"text-align: right;\"> -0.10906  </td><td style=\"text-align: right;\">  0.00256357</td><td style=\"text-align: right;\">  0.0114266  </td><td style=\"text-align: right;\"> -0.377248</td><td style=\"text-align: right;\"> -0.0136518</td><td style=\"text-align: right;\">  0.0359675</td><td style=\"text-align: right;\"> -0.130342  </td><td style=\"text-align: right;\"> -0.121417 </td><td style=\"text-align: right;\">  0.0907476 </td><td style=\"text-align: right;\"> -0.0162039  </td><td style=\"text-align: right;\"> -0.149713</td><td style=\"text-align: right;\"> -0.101202 </td><td style=\"text-align: right;\">  0.0322669 </td><td style=\"text-align: right;\"> -0.175209</td><td style=\"text-align: right;\"> -0.130874 </td><td style=\"text-align: right;\"> -0.0332644</td><td style=\"text-align: right;\"> -0.0119674</td><td style=\"text-align: right;\"> -0.0401254</td><td style=\"text-align: right;\"> -0.126446 </td><td style=\"text-align: right;\">  0.0949788</td><td style=\"text-align: right;\"> -0.0590565</td><td style=\"text-align: right;\"> -0.0470771</td><td style=\"text-align: right;\">  0.0568877 </td><td style=\"text-align: right;\"> -0.245341</td><td style=\"text-align: right;\">  0.0202827 </td><td style=\"text-align: right;\">  0.000372029</td><td style=\"text-align: right;\">  0.0742522</td><td style=\"text-align: right;\"> -0.166646 </td><td style=\"text-align: right;\">  0.00755709</td><td style=\"text-align: right;\"> -0.00187194</td><td style=\"text-align: right;\">  0.0338202</td><td style=\"text-align: right;\"> -0.0528059</td><td style=\"text-align: right;\">  0.0587954</td><td style=\"text-align: right;\"> -0.120495</td><td style=\"text-align: right;\">  0.100773 </td><td style=\"text-align: right;\">  0.0514258 </td><td style=\"text-align: right;\"> -0.233051</td><td style=\"text-align: right;\"> -0.141928 </td><td style=\"text-align: right;\"> -0.023222   </td><td style=\"text-align: right;\">  0.0310589</td><td style=\"text-align: right;\"> -0.0713709</td><td style=\"text-align: right;\"> -0.0211589</td><td style=\"text-align: right;\">  0.0709389</td><td style=\"text-align: right;\">  0.113068 </td><td style=\"text-align: right;\"> -0.0586646</td><td style=\"text-align: right;\"> -0.0595723 </td><td style=\"text-align: right;\"> -0.0179191 </td><td style=\"text-align: right;\">  0.0831639</td><td style=\"text-align: right;\">  0.015812 </td><td style=\"text-align: right;\">  0.15231 </td><td style=\"text-align: right;\"> -0.057444 </td><td style=\"text-align: right;\">  0.15354   </td><td style=\"text-align: right;\"> -0.0391283</td><td style=\"text-align: right;\"> -0.0438891</td><td style=\"text-align: right;\"> -0.0734277 </td><td style=\"text-align: right;\"> -0.042335  </td><td style=\"text-align: right;\"> -0.0888261</td><td style=\"text-align: right;\"> -0.0363161</td><td style=\"text-align: right;\"> -0.052006  </td><td style=\"text-align: right;\"> -0.155094 </td><td style=\"text-align: right;\">  0.217619</td><td style=\"text-align: right;\">  0.0239857</td><td style=\"text-align: right;\"> -0.0117948 </td><td style=\"text-align: right;\"> -0.00568971</td><td style=\"text-align: right;\">  0.120094 </td><td style=\"text-align: right;\"> -0.063703 </td><td style=\"text-align: right;\">  0.0309983</td><td style=\"text-align: right;\">  0.0728039  </td><td style=\"text-align: right;\"> -0.0783737 </td><td style=\"text-align: right;\"> -0.0826895</td><td style=\"text-align: right;\">  0.042425  </td><td style=\"text-align: right;\">  0.0691523</td><td style=\"text-align: right;\"> -0.0532143</td><td style=\"text-align: right;\">  0.0599137 </td><td style=\"text-align: right;\"> -0.145674 </td><td style=\"text-align: right;\"> -0.0369697 </td><td style=\"text-align: right;\">  0.0574316</td></tr>\n",
       "<tr><td style=\"text-align: right;\">nan        </td><td style=\"text-align: right;\">nan        </td><td style=\"text-align: right;\">nan         </td><td style=\"text-align: right;\">nan        </td><td style=\"text-align: right;\">nan        </td><td style=\"text-align: right;\">nan         </td><td style=\"text-align: right;\">nan        </td><td style=\"text-align: right;\">nan        </td><td style=\"text-align: right;\">nan        </td><td style=\"text-align: right;\">nan        </td><td style=\"text-align: right;\">nan        </td><td style=\"text-align: right;\">nan       </td><td style=\"text-align: right;\">nan        </td><td style=\"text-align: right;\">nan        </td><td style=\"text-align: right;\">nan       </td><td style=\"text-align: right;\">nan          </td><td style=\"text-align: right;\">nan         </td><td style=\"text-align: right;\">nan        </td><td style=\"text-align: right;\">nan         </td><td style=\"text-align: right;\">nan        </td><td style=\"text-align: right;\">nan        </td><td style=\"text-align: right;\">nan        </td><td style=\"text-align: right;\">nan        </td><td style=\"text-align: right;\">nan        </td><td style=\"text-align: right;\">nan         </td><td style=\"text-align: right;\">nan          </td><td style=\"text-align: right;\">nan       </td><td style=\"text-align: right;\">nan        </td><td style=\"text-align: right;\">nan        </td><td style=\"text-align: right;\">nan         </td><td style=\"text-align: right;\">nan        </td><td style=\"text-align: right;\">nan         </td><td style=\"text-align: right;\">nan          </td><td style=\"text-align: right;\">nan       </td><td style=\"text-align: right;\">nan        </td><td style=\"text-align: right;\">nan         </td><td style=\"text-align: right;\">nan       </td><td style=\"text-align: right;\">nan        </td><td style=\"text-align: right;\">nan        </td><td style=\"text-align: right;\">nan        </td><td style=\"text-align: right;\">nan        </td><td style=\"text-align: right;\">nan        </td><td style=\"text-align: right;\">nan        </td><td style=\"text-align: right;\">nan        </td><td style=\"text-align: right;\">nan        </td><td style=\"text-align: right;\">nan         </td><td style=\"text-align: right;\">nan       </td><td style=\"text-align: right;\">nan         </td><td style=\"text-align: right;\">nan          </td><td style=\"text-align: right;\">nan        </td><td style=\"text-align: right;\">nan        </td><td style=\"text-align: right;\">nan         </td><td style=\"text-align: right;\">nan         </td><td style=\"text-align: right;\">nan        </td><td style=\"text-align: right;\">nan        </td><td style=\"text-align: right;\">nan        </td><td style=\"text-align: right;\">nan       </td><td style=\"text-align: right;\">nan        </td><td style=\"text-align: right;\">nan         </td><td style=\"text-align: right;\">nan       </td><td style=\"text-align: right;\">nan        </td><td style=\"text-align: right;\">nan          </td><td style=\"text-align: right;\">nan        </td><td style=\"text-align: right;\">nan        </td><td style=\"text-align: right;\">nan        </td><td style=\"text-align: right;\">nan        </td><td style=\"text-align: right;\">nan        </td><td style=\"text-align: right;\">nan        </td><td style=\"text-align: right;\">nan         </td><td style=\"text-align: right;\">nan         </td><td style=\"text-align: right;\">nan        </td><td style=\"text-align: right;\">nan        </td><td style=\"text-align: right;\">nan       </td><td style=\"text-align: right;\">nan        </td><td style=\"text-align: right;\">nan         </td><td style=\"text-align: right;\">nan        </td><td style=\"text-align: right;\">nan        </td><td style=\"text-align: right;\">nan         </td><td style=\"text-align: right;\">nan         </td><td style=\"text-align: right;\">nan        </td><td style=\"text-align: right;\">nan        </td><td style=\"text-align: right;\">nan         </td><td style=\"text-align: right;\">nan        </td><td style=\"text-align: right;\">nan       </td><td style=\"text-align: right;\">nan        </td><td style=\"text-align: right;\">nan         </td><td style=\"text-align: right;\">nan         </td><td style=\"text-align: right;\">nan        </td><td style=\"text-align: right;\">nan        </td><td style=\"text-align: right;\">nan        </td><td style=\"text-align: right;\">nan          </td><td style=\"text-align: right;\">nan         </td><td style=\"text-align: right;\">nan        </td><td style=\"text-align: right;\">nan         </td><td style=\"text-align: right;\">nan        </td><td style=\"text-align: right;\">nan        </td><td style=\"text-align: right;\">nan         </td><td style=\"text-align: right;\">nan        </td><td style=\"text-align: right;\">nan         </td><td style=\"text-align: right;\">nan        </td></tr>\n",
       "<tr><td style=\"text-align: right;\">  0.245225 </td><td style=\"text-align: right;\">  0.0456717</td><td style=\"text-align: right;\"> -0.00846987</td><td style=\"text-align: right;\"> -0.230236 </td><td style=\"text-align: right;\">  0.0630103</td><td style=\"text-align: right;\">  0.0834946 </td><td style=\"text-align: right;\">  0.0650754</td><td style=\"text-align: right;\">  0.322025 </td><td style=\"text-align: right;\">  0.114134 </td><td style=\"text-align: right;\">  0.0277787</td><td style=\"text-align: right;\">  0.0712254</td><td style=\"text-align: right;\">  0.166102</td><td style=\"text-align: right;\"> -0.300808 </td><td style=\"text-align: right;\"> -0.202443 </td><td style=\"text-align: right;\"> -0.324288</td><td style=\"text-align: right;\"> -0.000294092</td><td style=\"text-align: right;\">  0.081285  </td><td style=\"text-align: right;\">  0.0065813</td><td style=\"text-align: right;\">  0.0242473 </td><td style=\"text-align: right;\">  0.0879155</td><td style=\"text-align: right;\">  0.0970185</td><td style=\"text-align: right;\">  0.0682897</td><td style=\"text-align: right;\"> -0.0466481</td><td style=\"text-align: right;\"> -0.123529 </td><td style=\"text-align: right;\">  0.0685768 </td><td style=\"text-align: right;\"> -0.0960697  </td><td style=\"text-align: right;\"> -0.306231</td><td style=\"text-align: right;\">  0.0962293</td><td style=\"text-align: right;\">  0.0712047</td><td style=\"text-align: right;\"> -0.0939087 </td><td style=\"text-align: right;\"> -0.107038 </td><td style=\"text-align: right;\">  0.00472388</td><td style=\"text-align: right;\">  0.0751422  </td><td style=\"text-align: right;\"> -0.122404</td><td style=\"text-align: right;\"> -0.153533 </td><td style=\"text-align: right;\">  0.10958   </td><td style=\"text-align: right;\"> -0.300343</td><td style=\"text-align: right;\">  0.0583846</td><td style=\"text-align: right;\"> -0.0144456</td><td style=\"text-align: right;\"> -0.0274447</td><td style=\"text-align: right;\">  0.0360307</td><td style=\"text-align: right;\"> -0.0656349</td><td style=\"text-align: right;\">  0.10324  </td><td style=\"text-align: right;\"> -0.083989 </td><td style=\"text-align: right;\">  0.0226185</td><td style=\"text-align: right;\">  0.0747678 </td><td style=\"text-align: right;\"> -0.134516</td><td style=\"text-align: right;\"> -0.00185587</td><td style=\"text-align: right;\"> -0.11719    </td><td style=\"text-align: right;\">  0.108619 </td><td style=\"text-align: right;\"> -0.239905 </td><td style=\"text-align: right;\">  0.12283   </td><td style=\"text-align: right;\">  0.0346783 </td><td style=\"text-align: right;\">  0.0764493</td><td style=\"text-align: right;\"> -0.153444 </td><td style=\"text-align: right;\">  0.0300663</td><td style=\"text-align: right;\"> -0.155291</td><td style=\"text-align: right;\"> -0.0386378</td><td style=\"text-align: right;\">  0.0626592 </td><td style=\"text-align: right;\"> -0.229086</td><td style=\"text-align: right;\"> -0.164662 </td><td style=\"text-align: right;\"> -0.07224    </td><td style=\"text-align: right;\"> -0.0397636</td><td style=\"text-align: right;\"> -0.0143683</td><td style=\"text-align: right;\">  0.116045 </td><td style=\"text-align: right;\"> -0.032855 </td><td style=\"text-align: right;\">  0.0864054</td><td style=\"text-align: right;\"> -0.0866307</td><td style=\"text-align: right;\"> -0.0746439 </td><td style=\"text-align: right;\"> -0.036333  </td><td style=\"text-align: right;\">  0.0199477</td><td style=\"text-align: right;\">  0.0619815</td><td style=\"text-align: right;\">  0.301743</td><td style=\"text-align: right;\"> -0.0386434</td><td style=\"text-align: right;\"> -0.00677849</td><td style=\"text-align: right;\">  0.127528 </td><td style=\"text-align: right;\"> -0.0316534</td><td style=\"text-align: right;\">  0.00211254</td><td style=\"text-align: right;\">  0.0150565 </td><td style=\"text-align: right;\"> -0.0987461</td><td style=\"text-align: right;\">  0.0110799</td><td style=\"text-align: right;\"> -0.0297898 </td><td style=\"text-align: right;\"> -0.181591 </td><td style=\"text-align: right;\">  0.207426</td><td style=\"text-align: right;\">  0.113898 </td><td style=\"text-align: right;\">  0.0240772 </td><td style=\"text-align: right;\"> -0.159755  </td><td style=\"text-align: right;\">  0.144446 </td><td style=\"text-align: right;\"> -0.0459163</td><td style=\"text-align: right;\"> -0.021182 </td><td style=\"text-align: right;\"> -0.13292    </td><td style=\"text-align: right;\"> -0.27304   </td><td style=\"text-align: right;\"> -0.113722 </td><td style=\"text-align: right;\">  0.142826  </td><td style=\"text-align: right;\">  0.0623456</td><td style=\"text-align: right;\"> -0.102378 </td><td style=\"text-align: right;\">  0.0443694 </td><td style=\"text-align: right;\"> -0.259333 </td><td style=\"text-align: right;\"> -0.0470694 </td><td style=\"text-align: right;\">  0.0365475</td></tr>\n",
       "<tr><td style=\"text-align: right;\">  0.127995 </td><td style=\"text-align: right;\">  0.01446  </td><td style=\"text-align: right;\">  0.0531775 </td><td style=\"text-align: right;\"> -0.0325915</td><td style=\"text-align: right;\">  0.0110166</td><td style=\"text-align: right;\">  0.00184516</td><td style=\"text-align: right;\">  0.0196558</td><td style=\"text-align: right;\">  0.226631 </td><td style=\"text-align: right;\">  0.0168399</td><td style=\"text-align: right;\"> -0.0814704</td><td style=\"text-align: right;\">  0.119722 </td><td style=\"text-align: right;\">  0.183651</td><td style=\"text-align: right;\"> -0.0749216</td><td style=\"text-align: right;\"> -0.159653 </td><td style=\"text-align: right;\"> -0.186548</td><td style=\"text-align: right;\"> -0.0578382  </td><td style=\"text-align: right;\">  0.121444  </td><td style=\"text-align: right;\"> -0.117059 </td><td style=\"text-align: right;\">  0.00828709</td><td style=\"text-align: right;\">  0.0338063</td><td style=\"text-align: right;\">  0.141698 </td><td style=\"text-align: right;\">  0.145709 </td><td style=\"text-align: right;\"> -0.0745054</td><td style=\"text-align: right;\"> -0.0803026</td><td style=\"text-align: right;\">  0.0244556 </td><td style=\"text-align: right;\">  0.000579028</td><td style=\"text-align: right;\"> -0.267585</td><td style=\"text-align: right;\">  0.0277106</td><td style=\"text-align: right;\">  0.103682 </td><td style=\"text-align: right;\"> -0.00154649</td><td style=\"text-align: right;\"> -0.0701094</td><td style=\"text-align: right;\">  0.0505944 </td><td style=\"text-align: right;\">  0.000146247</td><td style=\"text-align: right;\"> -0.149167</td><td style=\"text-align: right;\"> -0.0848048</td><td style=\"text-align: right;\"> -0.0351085 </td><td style=\"text-align: right;\"> -0.114404</td><td style=\"text-align: right;\"> -0.0675268</td><td style=\"text-align: right;\"> -0.0307774</td><td style=\"text-align: right;\"> -0.0275144</td><td style=\"text-align: right;\"> -0.088313 </td><td style=\"text-align: right;\"> -0.0517958</td><td style=\"text-align: right;\">  0.161455 </td><td style=\"text-align: right;\"> -0.0576408</td><td style=\"text-align: right;\">  0.101828 </td><td style=\"text-align: right;\"> -0.0636807 </td><td style=\"text-align: right;\"> -0.109168</td><td style=\"text-align: right;\">  0.0593124 </td><td style=\"text-align: right;\">  0.0639965  </td><td style=\"text-align: right;\">  0.0334824</td><td style=\"text-align: right;\"> -0.0944598</td><td style=\"text-align: right;\">  0.0584044 </td><td style=\"text-align: right;\">  0.0593343 </td><td style=\"text-align: right;\"> -0.0143928</td><td style=\"text-align: right;\">  0.0341294</td><td style=\"text-align: right;\">  0.145607 </td><td style=\"text-align: right;\"> -0.160513</td><td style=\"text-align: right;\">  0.0179491</td><td style=\"text-align: right;\"> -0.0254333 </td><td style=\"text-align: right;\"> -0.166856</td><td style=\"text-align: right;\"> -0.0691991</td><td style=\"text-align: right;\">  0.0472964  </td><td style=\"text-align: right;\"> -0.0784109</td><td style=\"text-align: right;\"> -0.11008  </td><td style=\"text-align: right;\"> -0.125757 </td><td style=\"text-align: right;\"> -0.0198062</td><td style=\"text-align: right;\">  0.0948744</td><td style=\"text-align: right;\"> -0.116458 </td><td style=\"text-align: right;\"> -0.0475339 </td><td style=\"text-align: right;\"> -0.00812156</td><td style=\"text-align: right;\">  0.10011  </td><td style=\"text-align: right;\">  0.118059 </td><td style=\"text-align: right;\">  0.270996</td><td style=\"text-align: right;\"> -0.0609195</td><td style=\"text-align: right;\">  0.122701  </td><td style=\"text-align: right;\"> -0.088684 </td><td style=\"text-align: right;\"> -0.10143  </td><td style=\"text-align: right;\"> -0.171184  </td><td style=\"text-align: right;\"> -0.0145017 </td><td style=\"text-align: right;\"> -0.0165905</td><td style=\"text-align: right;\">  0.0113419</td><td style=\"text-align: right;\">  0.0563065 </td><td style=\"text-align: right;\"> -0.0944595</td><td style=\"text-align: right;\">  0.178718</td><td style=\"text-align: right;\">  0.0463754</td><td style=\"text-align: right;\"> -0.00539381</td><td style=\"text-align: right;\"> -0.0922088 </td><td style=\"text-align: right;\">  0.13414  </td><td style=\"text-align: right;\">  0.0592086</td><td style=\"text-align: right;\">  0.0281258</td><td style=\"text-align: right;\"> -0.206689   </td><td style=\"text-align: right;\"> -0.148848  </td><td style=\"text-align: right;\"> -0.160837 </td><td style=\"text-align: right;\">  0.0588529 </td><td style=\"text-align: right;\"> -0.106048 </td><td style=\"text-align: right;\"> -0.0939711</td><td style=\"text-align: right;\"> -0.0726131 </td><td style=\"text-align: right;\"> -0.0998975</td><td style=\"text-align: right;\"> -0.0564426 </td><td style=\"text-align: right;\">  0.0923119</td></tr>\n",
       "<tr><td style=\"text-align: right;\">  0.1428   </td><td style=\"text-align: right;\"> -0.0119279</td><td style=\"text-align: right;\">  0.0641216 </td><td style=\"text-align: right;\"> -0.127034 </td><td style=\"text-align: right;\">  0.0323505</td><td style=\"text-align: right;\">  0.0129166 </td><td style=\"text-align: right;\">  0.0637903</td><td style=\"text-align: right;\">  0.309906 </td><td style=\"text-align: right;\">  0.0694789</td><td style=\"text-align: right;\">  0.0140088</td><td style=\"text-align: right;\">  0.05085  </td><td style=\"text-align: right;\">  0.206877</td><td style=\"text-align: right;\"> -0.0664827</td><td style=\"text-align: right;\"> -0.153579 </td><td style=\"text-align: right;\"> -0.321314</td><td style=\"text-align: right;\"> -0.0296848  </td><td style=\"text-align: right;\">  0.0583738 </td><td style=\"text-align: right;\"> -0.0656248</td><td style=\"text-align: right;\"> -0.107963  </td><td style=\"text-align: right;\">  0.0318556</td><td style=\"text-align: right;\">  0.0507604</td><td style=\"text-align: right;\">  0.159211 </td><td style=\"text-align: right;\"> -0.136967 </td><td style=\"text-align: right;\"> -0.0942879</td><td style=\"text-align: right;\"> -0.00790364</td><td style=\"text-align: right;\"> -0.0462574  </td><td style=\"text-align: right;\"> -0.345729</td><td style=\"text-align: right;\">  0.0221707</td><td style=\"text-align: right;\">  0.0936729</td><td style=\"text-align: right;\">  0.0306987 </td><td style=\"text-align: right;\"> -0.0906272</td><td style=\"text-align: right;\">  0.0384001 </td><td style=\"text-align: right;\">  0.00944996 </td><td style=\"text-align: right;\"> -0.201886</td><td style=\"text-align: right;\"> -0.0529756</td><td style=\"text-align: right;\">  0.0330395 </td><td style=\"text-align: right;\"> -0.18812 </td><td style=\"text-align: right;\"> -0.0433456</td><td style=\"text-align: right;\">  0.0368933</td><td style=\"text-align: right;\">  0.0614627</td><td style=\"text-align: right;\"> -0.0774111</td><td style=\"text-align: right;\"> -0.113509 </td><td style=\"text-align: right;\">  0.14457  </td><td style=\"text-align: right;\"> -0.0590271</td><td style=\"text-align: right;\">  0.0447453</td><td style=\"text-align: right;\">  0.00926468</td><td style=\"text-align: right;\"> -0.147218</td><td style=\"text-align: right;\">  0.0586883 </td><td style=\"text-align: right;\">  0.0566865  </td><td style=\"text-align: right;\">  0.0325948</td><td style=\"text-align: right;\"> -0.0924711</td><td style=\"text-align: right;\">  0.134217  </td><td style=\"text-align: right;\">  0.0251529 </td><td style=\"text-align: right;\">  0.125236 </td><td style=\"text-align: right;\">  0.023457 </td><td style=\"text-align: right;\">  0.0498032</td><td style=\"text-align: right;\"> -0.136382</td><td style=\"text-align: right;\">  0.0341843</td><td style=\"text-align: right;\">  0.0263225 </td><td style=\"text-align: right;\"> -0.111366</td><td style=\"text-align: right;\"> -0.124993 </td><td style=\"text-align: right;\">  0.0335169  </td><td style=\"text-align: right;\"> -0.0476483</td><td style=\"text-align: right;\">  0.03393  </td><td style=\"text-align: right;\">  0.0252137</td><td style=\"text-align: right;\">  0.0608223</td><td style=\"text-align: right;\">  0.0336362</td><td style=\"text-align: right;\"> -0.0997229</td><td style=\"text-align: right;\"> -0.00198624</td><td style=\"text-align: right;\">  0.0146132 </td><td style=\"text-align: right;\">  0.0666964</td><td style=\"text-align: right;\">  0.0833829</td><td style=\"text-align: right;\">  0.207558</td><td style=\"text-align: right;\"> -0.0290395</td><td style=\"text-align: right;\">  0.103154  </td><td style=\"text-align: right;\"> -0.0303442</td><td style=\"text-align: right;\"> -0.119998 </td><td style=\"text-align: right;\"> -0.0991083 </td><td style=\"text-align: right;\">  0.0362756 </td><td style=\"text-align: right;\"> -0.06065  </td><td style=\"text-align: right;\"> -0.0172642</td><td style=\"text-align: right;\">  0.0120305 </td><td style=\"text-align: right;\"> -0.0453981</td><td style=\"text-align: right;\">  0.203336</td><td style=\"text-align: right;\">  0.0328751</td><td style=\"text-align: right;\"> -0.0100942 </td><td style=\"text-align: right;\"> -0.071491  </td><td style=\"text-align: right;\">  0.0860025</td><td style=\"text-align: right;\"> -0.0158084</td><td style=\"text-align: right;\">  0.0168373</td><td style=\"text-align: right;\"> -0.0172983  </td><td style=\"text-align: right;\"> -0.140212  </td><td style=\"text-align: right;\"> -0.0588953</td><td style=\"text-align: right;\"> -0.0153148 </td><td style=\"text-align: right;\">  0.0263995</td><td style=\"text-align: right;\"> -0.0738759</td><td style=\"text-align: right;\"> -0.0509522 </td><td style=\"text-align: right;\"> -0.115296 </td><td style=\"text-align: right;\"> -0.112841  </td><td style=\"text-align: right;\">  0.0444545</td></tr>\n",
       "<tr><td style=\"text-align: right;\">  0.141996 </td><td style=\"text-align: right;\"> -0.117617 </td><td style=\"text-align: right;\">  0.0476824 </td><td style=\"text-align: right;\"> -0.196258 </td><td style=\"text-align: right;\">  0.041249 </td><td style=\"text-align: right;\">  0.0148773 </td><td style=\"text-align: right;\">  0.0892352</td><td style=\"text-align: right;\">  0.178633 </td><td style=\"text-align: right;\">  0.0137015</td><td style=\"text-align: right;\">  0.018294 </td><td style=\"text-align: right;\"> -0.0314715</td><td style=\"text-align: right;\">  0.346561</td><td style=\"text-align: right;\">  0.0384891</td><td style=\"text-align: right;\"> -0.176051 </td><td style=\"text-align: right;\"> -0.238807</td><td style=\"text-align: right;\"> -0.0671368  </td><td style=\"text-align: right;\">  0.0287766 </td><td style=\"text-align: right;\"> -0.0798848</td><td style=\"text-align: right;\"> -0.0253542 </td><td style=\"text-align: right;\"> -0.0206612</td><td style=\"text-align: right;\">  0.0689551</td><td style=\"text-align: right;\">  0.105375 </td><td style=\"text-align: right;\"> -0.191941 </td><td style=\"text-align: right;\"> -0.167099 </td><td style=\"text-align: right;\">  0.0643527 </td><td style=\"text-align: right;\"> -0.0415472  </td><td style=\"text-align: right;\"> -0.377866</td><td style=\"text-align: right;\"> -0.0246966</td><td style=\"text-align: right;\">  0.131831 </td><td style=\"text-align: right;\"> -0.0111918 </td><td style=\"text-align: right;\"> -0.120138 </td><td style=\"text-align: right;\">  0.0610029 </td><td style=\"text-align: right;\">  0.0235297  </td><td style=\"text-align: right;\"> -0.162429</td><td style=\"text-align: right;\"> -0.150143 </td><td style=\"text-align: right;\"> -0.00680654</td><td style=\"text-align: right;\"> -0.184183</td><td style=\"text-align: right;\"> -0.178262 </td><td style=\"text-align: right;\">  0.0244135</td><td style=\"text-align: right;\">  0.0518092</td><td style=\"text-align: right;\"> -0.0593963</td><td style=\"text-align: right;\"> -0.0790366</td><td style=\"text-align: right;\">  0.028395 </td><td style=\"text-align: right;\"> -0.0130306</td><td style=\"text-align: right;\">  0.0626558</td><td style=\"text-align: right;\"> -0.0708703 </td><td style=\"text-align: right;\"> -0.188258</td><td style=\"text-align: right;\">  0.0539057 </td><td style=\"text-align: right;\">  0.0544819  </td><td style=\"text-align: right;\">  0.0884041</td><td style=\"text-align: right;\"> -0.105007 </td><td style=\"text-align: right;\">  0.0341426 </td><td style=\"text-align: right;\"> -0.00927208</td><td style=\"text-align: right;\"> -0.0308639</td><td style=\"text-align: right;\">  0.0648078</td><td style=\"text-align: right;\">  0.04213  </td><td style=\"text-align: right;\"> -0.128653</td><td style=\"text-align: right;\">  0.0724293</td><td style=\"text-align: right;\"> -0.00804979</td><td style=\"text-align: right;\"> -0.089241</td><td style=\"text-align: right;\"> -0.0869501</td><td style=\"text-align: right;\">  0.0496582  </td><td style=\"text-align: right;\">  0.106909 </td><td style=\"text-align: right;\"> -0.0114608</td><td style=\"text-align: right;\">  0.0287566</td><td style=\"text-align: right;\">  0.111208 </td><td style=\"text-align: right;\">  0.134734 </td><td style=\"text-align: right;\"> -0.105884 </td><td style=\"text-align: right;\"> -0.0693064 </td><td style=\"text-align: right;\"> -0.0682694 </td><td style=\"text-align: right;\">  0.0683568</td><td style=\"text-align: right;\">  0.0748905</td><td style=\"text-align: right;\">  0.152746</td><td style=\"text-align: right;\"> -0.023455 </td><td style=\"text-align: right;\">  0.114383  </td><td style=\"text-align: right;\"> -0.0420711</td><td style=\"text-align: right;\"> -0.22715  </td><td style=\"text-align: right;\"> -0.0361369 </td><td style=\"text-align: right;\">  0.00791696</td><td style=\"text-align: right;\"> -0.191824 </td><td style=\"text-align: right;\"> -0.0689472</td><td style=\"text-align: right;\"> -0.0635594 </td><td style=\"text-align: right;\"> -0.020638 </td><td style=\"text-align: right;\">  0.153449</td><td style=\"text-align: right;\">  0.0681364</td><td style=\"text-align: right;\">  0.055198  </td><td style=\"text-align: right;\"> -0.140307  </td><td style=\"text-align: right;\">  0.078702 </td><td style=\"text-align: right;\">  0.095428 </td><td style=\"text-align: right;\"> -0.0175271</td><td style=\"text-align: right;\"> -0.0584056  </td><td style=\"text-align: right;\">  0.00416998</td><td style=\"text-align: right;\"> -0.0668767</td><td style=\"text-align: right;\">  0.00918006</td><td style=\"text-align: right;\"> -0.0762277</td><td style=\"text-align: right;\"> -0.138612 </td><td style=\"text-align: right;\"> -0.00351752</td><td style=\"text-align: right;\"> -0.124059 </td><td style=\"text-align: right;\"> -0.204179  </td><td style=\"text-align: right;\">  0.0267339</td></tr>\n",
       "<tr><td style=\"text-align: right;\">nan        </td><td style=\"text-align: right;\">nan        </td><td style=\"text-align: right;\">nan         </td><td style=\"text-align: right;\">nan        </td><td style=\"text-align: right;\">nan        </td><td style=\"text-align: right;\">nan         </td><td style=\"text-align: right;\">nan        </td><td style=\"text-align: right;\">nan        </td><td style=\"text-align: right;\">nan        </td><td style=\"text-align: right;\">nan        </td><td style=\"text-align: right;\">nan        </td><td style=\"text-align: right;\">nan       </td><td style=\"text-align: right;\">nan        </td><td style=\"text-align: right;\">nan        </td><td style=\"text-align: right;\">nan       </td><td style=\"text-align: right;\">nan          </td><td style=\"text-align: right;\">nan         </td><td style=\"text-align: right;\">nan        </td><td style=\"text-align: right;\">nan         </td><td style=\"text-align: right;\">nan        </td><td style=\"text-align: right;\">nan        </td><td style=\"text-align: right;\">nan        </td><td style=\"text-align: right;\">nan        </td><td style=\"text-align: right;\">nan        </td><td style=\"text-align: right;\">nan         </td><td style=\"text-align: right;\">nan          </td><td style=\"text-align: right;\">nan       </td><td style=\"text-align: right;\">nan        </td><td style=\"text-align: right;\">nan        </td><td style=\"text-align: right;\">nan         </td><td style=\"text-align: right;\">nan        </td><td style=\"text-align: right;\">nan         </td><td style=\"text-align: right;\">nan          </td><td style=\"text-align: right;\">nan       </td><td style=\"text-align: right;\">nan        </td><td style=\"text-align: right;\">nan         </td><td style=\"text-align: right;\">nan       </td><td style=\"text-align: right;\">nan        </td><td style=\"text-align: right;\">nan        </td><td style=\"text-align: right;\">nan        </td><td style=\"text-align: right;\">nan        </td><td style=\"text-align: right;\">nan        </td><td style=\"text-align: right;\">nan        </td><td style=\"text-align: right;\">nan        </td><td style=\"text-align: right;\">nan        </td><td style=\"text-align: right;\">nan         </td><td style=\"text-align: right;\">nan       </td><td style=\"text-align: right;\">nan         </td><td style=\"text-align: right;\">nan          </td><td style=\"text-align: right;\">nan        </td><td style=\"text-align: right;\">nan        </td><td style=\"text-align: right;\">nan         </td><td style=\"text-align: right;\">nan         </td><td style=\"text-align: right;\">nan        </td><td style=\"text-align: right;\">nan        </td><td style=\"text-align: right;\">nan        </td><td style=\"text-align: right;\">nan       </td><td style=\"text-align: right;\">nan        </td><td style=\"text-align: right;\">nan         </td><td style=\"text-align: right;\">nan       </td><td style=\"text-align: right;\">nan        </td><td style=\"text-align: right;\">nan          </td><td style=\"text-align: right;\">nan        </td><td style=\"text-align: right;\">nan        </td><td style=\"text-align: right;\">nan        </td><td style=\"text-align: right;\">nan        </td><td style=\"text-align: right;\">nan        </td><td style=\"text-align: right;\">nan        </td><td style=\"text-align: right;\">nan         </td><td style=\"text-align: right;\">nan         </td><td style=\"text-align: right;\">nan        </td><td style=\"text-align: right;\">nan        </td><td style=\"text-align: right;\">nan       </td><td style=\"text-align: right;\">nan        </td><td style=\"text-align: right;\">nan         </td><td style=\"text-align: right;\">nan        </td><td style=\"text-align: right;\">nan        </td><td style=\"text-align: right;\">nan         </td><td style=\"text-align: right;\">nan         </td><td style=\"text-align: right;\">nan        </td><td style=\"text-align: right;\">nan        </td><td style=\"text-align: right;\">nan         </td><td style=\"text-align: right;\">nan        </td><td style=\"text-align: right;\">nan       </td><td style=\"text-align: right;\">nan        </td><td style=\"text-align: right;\">nan         </td><td style=\"text-align: right;\">nan         </td><td style=\"text-align: right;\">nan        </td><td style=\"text-align: right;\">nan        </td><td style=\"text-align: right;\">nan        </td><td style=\"text-align: right;\">nan          </td><td style=\"text-align: right;\">nan         </td><td style=\"text-align: right;\">nan        </td><td style=\"text-align: right;\">nan         </td><td style=\"text-align: right;\">nan        </td><td style=\"text-align: right;\">nan        </td><td style=\"text-align: right;\">nan         </td><td style=\"text-align: right;\">nan        </td><td style=\"text-align: right;\">nan         </td><td style=\"text-align: right;\">nan        </td></tr>\n",
       "</tbody>\n",
       "</table>"
      ]
     },
     "metadata": {},
     "output_type": "display_data"
    },
    {
     "data": {
      "text/plain": []
     },
     "execution_count": 31,
     "metadata": {},
     "output_type": "execute_result"
    }
   ],
   "source": [
    "desc_vecs = w2v_model.transform(words, aggregate_method=\"AVERAGE\")\n",
    "desc_vecs.head()"
   ]
  },
  {
   "cell_type": "markdown",
   "metadata": {},
   "source": [
    "Finally, we add the aggregated word embeddings from the Word2Vec model to the loans data"
   ]
  },
  {
   "cell_type": "code",
   "execution_count": 32,
   "metadata": {},
   "outputs": [],
   "source": [
    "loans = loans.cbind(desc_vecs)"
   ]
  },
  {
   "cell_type": "markdown",
   "metadata": {},
   "source": [
    "# Step 5 (of 10). Model training\n",
    "\n",
    "Now that we have cleaned our data and added new columns, we train a model to predict bad loans. First split our loans data into train and test."
   ]
  },
  {
   "cell_type": "code",
   "execution_count": 33,
   "metadata": {},
   "outputs": [],
   "source": [
    "train, test = loans.split_frame(seed=25, ratios=[0.75])"
   ]
  },
  {
   "cell_type": "markdown",
   "metadata": {},
   "source": [
    "Next create a list of predictors as a subset of the columns of the `loans` H2O Frame"
   ]
  },
  {
   "cell_type": "code",
   "execution_count": 34,
   "metadata": {},
   "outputs": [],
   "source": [
    "cols_to_remove = [\"initial_list_status\",\n",
    "                  \"out_prncp\",\n",
    "                  \"out_prncp_inv\",\n",
    "                  \"total_pymnt\",\n",
    "                  \"total_pymnt_inv\",\n",
    "                  \"total_rec_prncp\", \n",
    "                  \"total_rec_int\",\n",
    "                  \"total_rec_late_fee\",\n",
    "                  \"recoveries\",\n",
    "                  \"collection_recovery_fee\",\n",
    "                  \"last_pymnt_d\", \n",
    "                  \"last_pymnt_amnt\",\n",
    "                  \"next_pymnt_d\",\n",
    "                  \"last_credit_pull_d\",\n",
    "                  \"collections_12_mths_ex_med\" , \n",
    "                  \"mths_since_last_major_derog\",\n",
    "                  \"policy_code\",\n",
    "                  \"loan_status\",\n",
    "                  \"funded_amnt\",\n",
    "                  \"funded_amnt_inv\",\n",
    "                  \"mths_since_last_delinq\",\n",
    "                  \"mths_since_last_record\",\n",
    "                  \"id\",\n",
    "                  \"member_id\",\n",
    "                  \"desc\",\n",
    "                  \"zip_code\"]\n",
    "\n",
    "predictors = list(set(loans.col_names) - set(cols_to_remove))"
   ]
  },
  {
   "cell_type": "code",
   "execution_count": 35,
   "metadata": {},
   "outputs": [
    {
     "data": {
      "text/plain": [
       "['C35',\n",
       " 'C91',\n",
       " 'pymnt_plan',\n",
       " 'C95',\n",
       " 'annual_inc',\n",
       " 'C60',\n",
       " 'C96',\n",
       " 'C83',\n",
       " 'C30',\n",
       " 'C90',\n",
       " 'credit_length',\n",
       " 'C40',\n",
       " 'emp_title',\n",
       " 'C8',\n",
       " 'C28',\n",
       " 'C81',\n",
       " 'C64',\n",
       " 'C66',\n",
       " 'C59',\n",
       " 'C52',\n",
       " 'C69',\n",
       " 'C99',\n",
       " 'C68',\n",
       " 'C1',\n",
       " 'C78',\n",
       " 'C72',\n",
       " 'C94',\n",
       " 'C33',\n",
       " 'C100',\n",
       " 'open_acc',\n",
       " 'C37',\n",
       " 'loan_amnt',\n",
       " 'C82',\n",
       " 'C24',\n",
       " 'revol_bal',\n",
       " 'C46',\n",
       " 'C76',\n",
       " 'total_acc',\n",
       " 'C86',\n",
       " 'C54',\n",
       " 'C67',\n",
       " 'issue_d_year',\n",
       " 'C32',\n",
       " 'C14',\n",
       " 'C27',\n",
       " 'revol_util',\n",
       " 'dti',\n",
       " 'C93',\n",
       " 'C26',\n",
       " 'term',\n",
       " 'issue_d_month',\n",
       " 'C4',\n",
       " 'C15',\n",
       " 'C49',\n",
       " 'C62',\n",
       " 'C79',\n",
       " 'C6',\n",
       " 'C44',\n",
       " 'C63',\n",
       " 'C47',\n",
       " 'C36',\n",
       " 'C39',\n",
       " 'C34',\n",
       " 'C3',\n",
       " 'home_ownership',\n",
       " 'C88',\n",
       " 'C38',\n",
       " 'C57',\n",
       " 'C45',\n",
       " 'C97',\n",
       " 'earliest_cr_line',\n",
       " 'C12',\n",
       " 'emp_length',\n",
       " 'C42',\n",
       " 'C10',\n",
       " 'C25',\n",
       " 'C11',\n",
       " 'C85',\n",
       " 'C65',\n",
       " 'pub_rec',\n",
       " 'C70',\n",
       " 'C58',\n",
       " 'C84',\n",
       " 'C18',\n",
       " 'C89',\n",
       " 'C5',\n",
       " 'C22',\n",
       " 'C23',\n",
       " 'C31',\n",
       " 'C2',\n",
       " 'C51',\n",
       " 'C77',\n",
       " 'C29',\n",
       " 'C9',\n",
       " 'grade',\n",
       " 'url',\n",
       " 'C55',\n",
       " 'C48',\n",
       " 'C75',\n",
       " 'C80',\n",
       " 'title',\n",
       " 'C56',\n",
       " 'sub_grade',\n",
       " 'issue_d',\n",
       " 'inq_last_6mths',\n",
       " 'C50',\n",
       " 'C7',\n",
       " 'C53',\n",
       " 'bad_loan',\n",
       " 'C13',\n",
       " 'C92',\n",
       " 'C98',\n",
       " 'addr_state',\n",
       " 'verification_status',\n",
       " 'delinq_2yrs',\n",
       " 'C20',\n",
       " 'C21',\n",
       " 'C43',\n",
       " 'C74',\n",
       " 'C16',\n",
       " 'C41',\n",
       " 'installment',\n",
       " 'int_rate',\n",
       " 'C17',\n",
       " 'C61',\n",
       " 'C73',\n",
       " 'C71',\n",
       " 'C87',\n",
       " 'C19',\n",
       " 'purpose']"
      ]
     },
     "execution_count": 35,
     "metadata": {},
     "output_type": "execute_result"
    }
   ],
   "source": [
    "predictors"
   ]
  },
  {
   "cell_type": "markdown",
   "metadata": {},
   "source": [
    "Now create an XGBoost model for predicting loan default. This model is being run with almost all of the model-tuning values at their defaults. Later we may want to optimize the hyperparameters using a grid search. "
   ]
  },
  {
   "cell_type": "code",
   "execution_count": 36,
   "metadata": {},
   "outputs": [
    {
     "name": "stderr",
     "output_type": "stream",
     "text": [
      "Dropping bad and constant columns: [url]\n"
     ]
    },
    {
     "name": "stdout",
     "output_type": "stream",
     "text": [
      "xgboost Model Build progress: |███████████████████████████████████████████| 100%\n"
     ]
    }
   ],
   "source": [
    "from h2o.estimators import H2OXGBoostEstimator\n",
    "\n",
    "param = {\n",
    "      \"ntrees\" : 20\n",
    "    , \"nfolds\" : 5\n",
    "    , \"seed\": 25\n",
    "}\n",
    "xgboost_model = H2OXGBoostEstimator(**param)\n",
    "xgboost_model.train(x = predictors,\n",
    "                    y = \"bad_loan\",\n",
    "                    training_frame=train,\n",
    "                    validation_frame=test)"
   ]
  },
  {
   "cell_type": "markdown",
   "metadata": {},
   "source": [
    "# Step 6 (of 10).  Examine model accuracy\n",
    "\n",
    "The plot below shows the performance of the model as more trees are built.  This graph can help us see at what point our model begins overfitting.  Our test data error rate stops improving at around 8-10 trees."
   ]
  },
  {
   "cell_type": "code",
   "execution_count": 37,
   "metadata": {},
   "outputs": [
    {
     "data": {
      "image/png": "[encoded data removed]",
      "text/plain": [
       "<Figure size 432x288 with 1 Axes>"
      ]
     },
     "metadata": {
      "needs_background": "light"
     },
     "output_type": "display_data"
    }
   ],
   "source": [
    "%matplotlib inline\n",
    "xgboost_model.plot()"
   ]
  },
  {
   "cell_type": "markdown",
   "metadata": {},
   "source": [
    "The ROC curve of the training and testing data are shown below.  The area under the ROC curve is much higher for the training data than the test data, indicating that the model is beginning to memorize the training data."
   ]
  },
  {
   "cell_type": "code",
   "execution_count": 38,
   "metadata": {},
   "outputs": [
    {
     "name": "stdout",
     "output_type": "stream",
     "text": [
      "Training Data\n"
     ]
    },
    {
     "data": {
      "image/png": "[encoded data removed]",
      "text/plain": [
       "<Figure size 432x288 with 1 Axes>"
      ]
     },
     "metadata": {
      "needs_background": "light"
     },
     "output_type": "display_data"
    },
    {
     "name": "stdout",
     "output_type": "stream",
     "text": [
      "Testing Data\n"
     ]
    },
    {
     "data": {
      "image/png": "[encoded data removed]",
      "text/plain": [
       "<Figure size 432x288 with 1 Axes>"
      ]
     },
     "metadata": {
      "needs_background": "light"
     },
     "output_type": "display_data"
    },
    {
     "name": "stdout",
     "output_type": "stream",
     "text": [
      "X-Val\n"
     ]
    },
    {
     "data": {
      "image/png": "[encoded data removed]",
      "text/plain": [
       "<Figure size 432x288 with 1 Axes>"
      ]
     },
     "metadata": {
      "needs_background": "light"
     },
     "output_type": "display_data"
    }
   ],
   "source": [
    "print(\"Training Data\")\n",
    "xgboost_model.model_performance(train = True).plot()\n",
    "print(\"Testing Data\")\n",
    "xgboost_model.model_performance(valid = True).plot()\n",
    "print(\"X-Val\")\n",
    "xgboost_model.model_performance(xval=True).plot()"
   ]
  },
  {
   "cell_type": "markdown",
   "metadata": {},
   "source": [
    "# Step 7 (of 10). Interpret model\n",
    "\n",
    "The variable importance plot shows us which variables are most important to predicting `bad_loan`.  We can use partial dependency plots to learn more about how these variables affect the prediction."
   ]
  },
  {
   "cell_type": "code",
   "execution_count": 39,
   "metadata": {},
   "outputs": [
    {
     "data": {
      "image/png": "[encoded data removed]",
      "text/plain": [
       "<Figure size 1008x720 with 1 Axes>"
      ]
     },
     "metadata": {
      "needs_background": "light"
     },
     "output_type": "display_data"
    }
   ],
   "source": [
    "xgboost_model.varimp_plot(20)"
   ]
  },
  {
   "cell_type": "markdown",
   "metadata": {},
   "source": [
    "As suspected, interest rate appears to be the most important feature in predicting loan default. The partial dependency plot of the `int_rate` predictor shows us that as the interest rate increases, the likelihood of the loan defaulting also increases."
   ]
  },
  {
   "cell_type": "code",
   "execution_count": 40,
   "metadata": {
    "scrolled": false
   },
   "outputs": [
    {
     "name": "stdout",
     "output_type": "stream",
     "text": [
      "PartialDependencePlot progress: |█████████████████████████████████████████| 100%\n"
     ]
    },
    {
     "name": "stderr",
     "output_type": "stream",
     "text": [
      "Since 3.2, the parameter *where* must have the same size as [5.42 6.403684210526316 7.387368421052631 8.371052631578948\n",
      " 9.354736842105263 10.338421052631578 11.322105263157894 12.30578947368421\n",
      " 13.289473684210526 14.273157894736842 15.256842105263157\n",
      " 16.240526315789474 17.224210526315787 18.207894736842107\n",
      " 19.19157894736842 20.175263157894733 21.158947368421053\n",
      " 22.142631578947366 23.126315789473686 24.11] in fill_betweenx(). This will become an error two minor releases later.\n"
     ]
    },
    {
     "data": {
      "image/png": "[encoded data removed]",
      "text/plain": [
       "<Figure size 504x720 with 1 Axes>"
      ]
     },
     "metadata": {
      "needs_background": "light"
     },
     "output_type": "display_data"
    }
   ],
   "source": [
    "pdp = xgboost_model.partial_plot(cols=[\"int_rate\"], data=train)"
   ]
  },
  {
   "cell_type": "markdown",
   "metadata": {},
   "source": [
    "# Step 8 (of 10). Save and reuse model\n",
    "\n",
    "The model can either be embedded into a self-contained Java MOJO package\n",
    "or it can be saved and later loaded directly into an H2O-3 cluster. For production\n",
    "use, we recommend using MOJO as it is optimized for speed. See the [guide](http://docs.h2o.ai/h2o/latest-stable/h2o-docs/productionizing.html) for further information.\n",
    "\n",
    "### Downloading MOJO"
   ]
  },
  {
   "cell_type": "code",
   "execution_count": 41,
   "metadata": {},
   "outputs": [
    {
     "data": {
      "text/plain": [
       "'/home/h2o/sparkling_water/lending_club_loan_default/XGBoost_model_python_1603296648014_1.zip'"
      ]
     },
     "execution_count": 41,
     "metadata": {},
     "output_type": "execute_result"
    }
   ],
   "source": [
    "xgboost_model.download_mojo()"
   ]
  },
  {
   "cell_type": "markdown",
   "metadata": {},
   "source": [
    "### Save and reuse the model \n",
    "\n",
    "We can save the model to disk for later use."
   ]
  },
  {
   "cell_type": "code",
   "execution_count": 42,
   "metadata": {},
   "outputs": [
    {
     "name": "stdout",
     "output_type": "stream",
     "text": [
      "/home/h2o/sparkling_water/lending_club_loan_default/XGBoost_model_python_1603296648014_1\n"
     ]
    }
   ],
   "source": [
    "model_path = h2o.save_model(model=xgboost_model, force=True)\n",
    "print(model_path)"
   ]
  },
  {
   "cell_type": "markdown",
   "metadata": {},
   "source": [
    "After the H2O cluster shuts down, all unsaved data and models are lost. At some future date, we can load the model for batch scoring in the H2O cluster."
   ]
  },
  {
   "cell_type": "code",
   "execution_count": 43,
   "metadata": {},
   "outputs": [],
   "source": [
    "loaded_model = h2o.load_model(path=model_path)"
   ]
  },
  {
   "cell_type": "markdown",
   "metadata": {},
   "source": [
    "Using that model, we can also score new data with the predict function:"
   ]
  },
  {
   "cell_type": "code",
   "execution_count": 44,
   "metadata": {
    "scrolled": true
   },
   "outputs": [
    {
     "name": "stdout",
     "output_type": "stream",
     "text": [
      "xgboost prediction progress: |████████████████████████████████████████████| 100%\n"
     ]
    },
    {
     "data": {
      "text/html": [
       "<table>\n",
       "<thead>\n",
       "<tr><th style=\"text-align: right;\">  predict</th><th style=\"text-align: right;\">      p0</th><th style=\"text-align: right;\">       p1</th></tr>\n",
       "</thead>\n",
       "<tbody>\n",
       "<tr><td style=\"text-align: right;\">        1</td><td style=\"text-align: right;\">0.748594</td><td style=\"text-align: right;\">0.251406 </td></tr>\n",
       "<tr><td style=\"text-align: right;\">        0</td><td style=\"text-align: right;\">0.979493</td><td style=\"text-align: right;\">0.0205069</td></tr>\n",
       "<tr><td style=\"text-align: right;\">        1</td><td style=\"text-align: right;\">0.622163</td><td style=\"text-align: right;\">0.377837 </td></tr>\n",
       "<tr><td style=\"text-align: right;\">        0</td><td style=\"text-align: right;\">0.90005 </td><td style=\"text-align: right;\">0.0999497</td></tr>\n",
       "<tr><td style=\"text-align: right;\">        0</td><td style=\"text-align: right;\">0.929426</td><td style=\"text-align: right;\">0.070574 </td></tr>\n",
       "<tr><td style=\"text-align: right;\">        0</td><td style=\"text-align: right;\">0.931984</td><td style=\"text-align: right;\">0.0680158</td></tr>\n",
       "<tr><td style=\"text-align: right;\">        0</td><td style=\"text-align: right;\">0.948944</td><td style=\"text-align: right;\">0.0510563</td></tr>\n",
       "<tr><td style=\"text-align: right;\">        0</td><td style=\"text-align: right;\">0.886569</td><td style=\"text-align: right;\">0.113431 </td></tr>\n",
       "<tr><td style=\"text-align: right;\">        0</td><td style=\"text-align: right;\">0.973249</td><td style=\"text-align: right;\">0.0267509</td></tr>\n",
       "<tr><td style=\"text-align: right;\">        1</td><td style=\"text-align: right;\">0.748147</td><td style=\"text-align: right;\">0.251853 </td></tr>\n",
       "<tr><td style=\"text-align: right;\">        0</td><td style=\"text-align: right;\">0.940805</td><td style=\"text-align: right;\">0.0591945</td></tr>\n",
       "<tr><td style=\"text-align: right;\">        0</td><td style=\"text-align: right;\">0.888513</td><td style=\"text-align: right;\">0.111487 </td></tr>\n",
       "<tr><td style=\"text-align: right;\">        1</td><td style=\"text-align: right;\">0.723332</td><td style=\"text-align: right;\">0.276668 </td></tr>\n",
       "<tr><td style=\"text-align: right;\">        0</td><td style=\"text-align: right;\">0.837486</td><td style=\"text-align: right;\">0.162514 </td></tr>\n",
       "<tr><td style=\"text-align: right;\">        0</td><td style=\"text-align: right;\">0.845622</td><td style=\"text-align: right;\">0.154378 </td></tr>\n",
       "</tbody>\n",
       "</table>"
      ]
     },
     "metadata": {},
     "output_type": "display_data"
    },
    {
     "data": {
      "text/plain": []
     },
     "execution_count": 44,
     "metadata": {},
     "output_type": "execute_result"
    }
   ],
   "source": [
    "bad_loan_hat = loaded_model.predict(test)\n",
    "bad_loan_hat.head(15)"
   ]
  },
  {
   "cell_type": "markdown",
   "metadata": {},
   "source": [
    "# Step 9 (of 10). AutoML (optional)\n",
    "\n",
    "AutoML can be used for automating the machine learning workflow, which includes automatic training and tuning of many models within a user-specified time-limit or user specified model build limit. \n",
    "\n",
    "Stacked Ensembles will be automatically trained on collections of individual models to produce highly predictive ensemble models."
   ]
  },
  {
   "cell_type": "code",
   "execution_count": 45,
   "metadata": {},
   "outputs": [
    {
     "name": "stdout",
     "output_type": "stream",
     "text": [
      "AutoML progress: |████████████████████████████████████████████████████████| 100%\n"
     ]
    }
   ],
   "source": [
    "from h2o.automl import H2OAutoML\n",
    "\n",
    "aml = H2OAutoML(max_models=5, \n",
    "                max_runtime_secs_per_model=60, \n",
    "                include_algos = [\"GLM\", \"DRF\", \"XGBoost\", \"StackedEnsemble\"],\n",
    "                seed=25)\n",
    "aml.train(x=predictors, y='bad_loan', training_frame=train)"
   ]
  },
  {
   "cell_type": "markdown",
   "metadata": {},
   "source": [
    "_While the AutoML job is running, you can open H2O Flow and monitor the model building process._\n",
    "\n",
    "Once complete, the leaderboard contains the performance metrics of the models generated by AutoML:"
   ]
  },
  {
   "cell_type": "code",
   "execution_count": 46,
   "metadata": {
    "scrolled": false
   },
   "outputs": [
    {
     "data": {
      "text/html": [
       "<table>\n",
       "<thead>\n",
       "<tr><th>model_id                                           </th><th style=\"text-align: right;\">     auc</th><th style=\"text-align: right;\">  logloss</th><th style=\"text-align: right;\">   aucpr</th><th style=\"text-align: right;\">  mean_per_class_error</th><th style=\"text-align: right;\">    rmse</th><th style=\"text-align: right;\">     mse</th></tr>\n",
       "</thead>\n",
       "<tbody>\n",
       "<tr><td>StackedEnsemble_AllModels_AutoML_20201021_161224   </td><td style=\"text-align: right;\">0.741383</td><td style=\"text-align: right;\"> 0.393713</td><td style=\"text-align: right;\">0.359087</td><td style=\"text-align: right;\">              0.330583</td><td style=\"text-align: right;\">0.34821 </td><td style=\"text-align: right;\">0.12125 </td></tr>\n",
       "<tr><td>StackedEnsemble_BestOfFamily_AutoML_20201021_161224</td><td style=\"text-align: right;\">0.739951</td><td style=\"text-align: right;\"> 0.394374</td><td style=\"text-align: right;\">0.356156</td><td style=\"text-align: right;\">              0.331362</td><td style=\"text-align: right;\">0.348527</td><td style=\"text-align: right;\">0.121471</td></tr>\n",
       "<tr><td>GLM_1_AutoML_20201021_161224                       </td><td style=\"text-align: right;\">0.733424</td><td style=\"text-align: right;\"> 0.393884</td><td style=\"text-align: right;\">0.349371</td><td style=\"text-align: right;\">              0.340162</td><td style=\"text-align: right;\">0.348447</td><td style=\"text-align: right;\">0.121415</td></tr>\n",
       "<tr><td>XGBoost_3_AutoML_20201021_161224                   </td><td style=\"text-align: right;\">0.720064</td><td style=\"text-align: right;\"> 0.402301</td><td style=\"text-align: right;\">0.328538</td><td style=\"text-align: right;\">              0.33426 </td><td style=\"text-align: right;\">0.352572</td><td style=\"text-align: right;\">0.124307</td></tr>\n",
       "<tr><td>DRF_1_AutoML_20201021_161224                       </td><td style=\"text-align: right;\">0.712316</td><td style=\"text-align: right;\"> 0.403327</td><td style=\"text-align: right;\">0.314285</td><td style=\"text-align: right;\">              0.345224</td><td style=\"text-align: right;\">0.352838</td><td style=\"text-align: right;\">0.124495</td></tr>\n",
       "<tr><td>XGBoost_1_AutoML_20201021_161224                   </td><td style=\"text-align: right;\">0.695923</td><td style=\"text-align: right;\"> 0.429133</td><td style=\"text-align: right;\">0.304926</td><td style=\"text-align: right;\">              0.358361</td><td style=\"text-align: right;\">0.361591</td><td style=\"text-align: right;\">0.130748</td></tr>\n",
       "<tr><td>XGBoost_2_AutoML_20201021_161224                   </td><td style=\"text-align: right;\">0.689866</td><td style=\"text-align: right;\"> 0.430606</td><td style=\"text-align: right;\">0.297921</td><td style=\"text-align: right;\">              0.363385</td><td style=\"text-align: right;\">0.362522</td><td style=\"text-align: right;\">0.131422</td></tr>\n",
       "</tbody>\n",
       "</table>"
      ]
     },
     "metadata": {},
     "output_type": "display_data"
    },
    {
     "data": {
      "text/plain": []
     },
     "execution_count": 46,
     "metadata": {},
     "output_type": "execute_result"
    }
   ],
   "source": [
    "aml.leaderboard"
   ]
  },
  {
   "cell_type": "markdown",
   "metadata": {},
   "source": [
    "Since we provided only the training H2O Frame during training, the models are sorted by their cross-validated performance metrics (AUC by default for classification). We can evaluate the best model (`leader`) on the test data:"
   ]
  },
  {
   "cell_type": "code",
   "execution_count": 47,
   "metadata": {},
   "outputs": [
    {
     "data": {
      "image/png": "[encoded data removed]",
      "text/plain": [
       "<Figure size 432x288 with 1 Axes>"
      ]
     },
     "metadata": {
      "needs_background": "light"
     },
     "output_type": "display_data"
    },
    {
     "name": "stdout",
     "output_type": "stream",
     "text": [
      "\n",
      "ModelMetricsBinomialGLM: stackedensemble\n",
      "** Reported on test data. **\n",
      "\n",
      "MSE: 0.1193639172812283\n",
      "RMSE: 0.3454908353071443\n",
      "LogLoss: 0.39006646011495494\n",
      "Null degrees of freedom: 9681\n",
      "Residual degrees of freedom: 9676\n",
      "Null deviance: 8292.432037983566\n",
      "Residual deviance: 7553.246933665988\n",
      "AIC: 7565.246933665988\n",
      "AUC: 0.7220678219940094\n",
      "AUCPR: 0.3245094289753602\n",
      "Gini: 0.44413564398801886\n",
      "\n",
      "Confusion Matrix (Act/Pred) for max f1 @ threshold = 0.14518725640531685: \n"
     ]
    },
    {
     "data": {
      "text/html": [
       "<div>\n",
       "<style scoped>\n",
       "    .dataframe tbody tr th:only-of-type {\n",
       "        vertical-align: middle;\n",
       "    }\n",
       "\n",
       "    .dataframe tbody tr th {\n",
       "        vertical-align: top;\n",
       "    }\n",
       "\n",
       "    .dataframe thead th {\n",
       "        text-align: right;\n",
       "    }\n",
       "</style>\n",
       "<table border=\"1\" class=\"dataframe\">\n",
       "  <thead>\n",
       "    <tr style=\"text-align: right;\">\n",
       "      <th></th>\n",
       "      <th></th>\n",
       "      <th>0</th>\n",
       "      <th>1</th>\n",
       "      <th>Error</th>\n",
       "      <th>Rate</th>\n",
       "    </tr>\n",
       "  </thead>\n",
       "  <tbody>\n",
       "    <tr>\n",
       "      <th>0</th>\n",
       "      <td>0</td>\n",
       "      <td>5696.0</td>\n",
       "      <td>2504.0</td>\n",
       "      <td>0.3054</td>\n",
       "      <td>(2504.0/8200.0)</td>\n",
       "    </tr>\n",
       "    <tr>\n",
       "      <th>1</th>\n",
       "      <td>1</td>\n",
       "      <td>536.0</td>\n",
       "      <td>946.0</td>\n",
       "      <td>0.3617</td>\n",
       "      <td>(536.0/1482.0)</td>\n",
       "    </tr>\n",
       "    <tr>\n",
       "      <th>2</th>\n",
       "      <td>Total</td>\n",
       "      <td>6232.0</td>\n",
       "      <td>3450.0</td>\n",
       "      <td>0.314</td>\n",
       "      <td>(3040.0/9682.0)</td>\n",
       "    </tr>\n",
       "  </tbody>\n",
       "</table>\n",
       "</div>"
      ],
      "text/plain": [
       "               0       1   Error              Rate\n",
       "0      0  5696.0  2504.0  0.3054   (2504.0/8200.0)\n",
       "1      1   536.0   946.0  0.3617    (536.0/1482.0)\n",
       "2  Total  6232.0  3450.0   0.314   (3040.0/9682.0)"
      ]
     },
     "metadata": {},
     "output_type": "display_data"
    },
    {
     "name": "stdout",
     "output_type": "stream",
     "text": [
      "\n",
      "Maximum Metrics: Maximum metrics at their respective thresholds\n"
     ]
    },
    {
     "data": {
      "text/html": [
       "<div>\n",
       "<style scoped>\n",
       "    .dataframe tbody tr th:only-of-type {\n",
       "        vertical-align: middle;\n",
       "    }\n",
       "\n",
       "    .dataframe tbody tr th {\n",
       "        vertical-align: top;\n",
       "    }\n",
       "\n",
       "    .dataframe thead th {\n",
       "        text-align: right;\n",
       "    }\n",
       "</style>\n",
       "<table border=\"1\" class=\"dataframe\">\n",
       "  <thead>\n",
       "    <tr style=\"text-align: right;\">\n",
       "      <th></th>\n",
       "      <th>metric</th>\n",
       "      <th>threshold</th>\n",
       "      <th>value</th>\n",
       "      <th>idx</th>\n",
       "    </tr>\n",
       "  </thead>\n",
       "  <tbody>\n",
       "    <tr>\n",
       "      <th>0</th>\n",
       "      <td>max f1</td>\n",
       "      <td>0.145187</td>\n",
       "      <td>0.383617</td>\n",
       "      <td>285.0</td>\n",
       "    </tr>\n",
       "    <tr>\n",
       "      <th>1</th>\n",
       "      <td>max f2</td>\n",
       "      <td>0.099034</td>\n",
       "      <td>0.528056</td>\n",
       "      <td>338.0</td>\n",
       "    </tr>\n",
       "    <tr>\n",
       "      <th>2</th>\n",
       "      <td>max f0point5</td>\n",
       "      <td>0.323017</td>\n",
       "      <td>0.358784</td>\n",
       "      <td>160.0</td>\n",
       "    </tr>\n",
       "    <tr>\n",
       "      <th>3</th>\n",
       "      <td>max accuracy</td>\n",
       "      <td>0.706687</td>\n",
       "      <td>0.848792</td>\n",
       "      <td>20.0</td>\n",
       "    </tr>\n",
       "    <tr>\n",
       "      <th>4</th>\n",
       "      <td>max precision</td>\n",
       "      <td>0.881243</td>\n",
       "      <td>1.000000</td>\n",
       "      <td>0.0</td>\n",
       "    </tr>\n",
       "    <tr>\n",
       "      <th>5</th>\n",
       "      <td>max recall</td>\n",
       "      <td>0.055791</td>\n",
       "      <td>1.000000</td>\n",
       "      <td>398.0</td>\n",
       "    </tr>\n",
       "    <tr>\n",
       "      <th>6</th>\n",
       "      <td>max specificity</td>\n",
       "      <td>0.881243</td>\n",
       "      <td>1.000000</td>\n",
       "      <td>0.0</td>\n",
       "    </tr>\n",
       "    <tr>\n",
       "      <th>7</th>\n",
       "      <td>max absolute_mcc</td>\n",
       "      <td>0.145187</td>\n",
       "      <td>0.250323</td>\n",
       "      <td>285.0</td>\n",
       "    </tr>\n",
       "    <tr>\n",
       "      <th>8</th>\n",
       "      <td>max min_per_class_accuracy</td>\n",
       "      <td>0.136859</td>\n",
       "      <td>0.663293</td>\n",
       "      <td>292.0</td>\n",
       "    </tr>\n",
       "    <tr>\n",
       "      <th>9</th>\n",
       "      <td>max mean_per_class_accuracy</td>\n",
       "      <td>0.131594</td>\n",
       "      <td>0.667223</td>\n",
       "      <td>298.0</td>\n",
       "    </tr>\n",
       "    <tr>\n",
       "      <th>10</th>\n",
       "      <td>max tns</td>\n",
       "      <td>0.881243</td>\n",
       "      <td>8200.000000</td>\n",
       "      <td>0.0</td>\n",
       "    </tr>\n",
       "    <tr>\n",
       "      <th>11</th>\n",
       "      <td>max fns</td>\n",
       "      <td>0.881243</td>\n",
       "      <td>1481.000000</td>\n",
       "      <td>0.0</td>\n",
       "    </tr>\n",
       "    <tr>\n",
       "      <th>12</th>\n",
       "      <td>max fps</td>\n",
       "      <td>0.053946</td>\n",
       "      <td>8200.000000</td>\n",
       "      <td>399.0</td>\n",
       "    </tr>\n",
       "    <tr>\n",
       "      <th>13</th>\n",
       "      <td>max tps</td>\n",
       "      <td>0.055791</td>\n",
       "      <td>1482.000000</td>\n",
       "      <td>398.0</td>\n",
       "    </tr>\n",
       "    <tr>\n",
       "      <th>14</th>\n",
       "      <td>max tnr</td>\n",
       "      <td>0.881243</td>\n",
       "      <td>1.000000</td>\n",
       "      <td>0.0</td>\n",
       "    </tr>\n",
       "    <tr>\n",
       "      <th>15</th>\n",
       "      <td>max fnr</td>\n",
       "      <td>0.881243</td>\n",
       "      <td>0.999325</td>\n",
       "      <td>0.0</td>\n",
       "    </tr>\n",
       "    <tr>\n",
       "      <th>16</th>\n",
       "      <td>max fpr</td>\n",
       "      <td>0.053946</td>\n",
       "      <td>1.000000</td>\n",
       "      <td>399.0</td>\n",
       "    </tr>\n",
       "    <tr>\n",
       "      <th>17</th>\n",
       "      <td>max tpr</td>\n",
       "      <td>0.055791</td>\n",
       "      <td>1.000000</td>\n",
       "      <td>398.0</td>\n",
       "    </tr>\n",
       "  </tbody>\n",
       "</table>\n",
       "</div>"
      ],
      "text/plain": [
       "                         metric  threshold        value    idx\n",
       "0                        max f1   0.145187     0.383617  285.0\n",
       "1                        max f2   0.099034     0.528056  338.0\n",
       "2                  max f0point5   0.323017     0.358784  160.0\n",
       "3                  max accuracy   0.706687     0.848792   20.0\n",
       "4                 max precision   0.881243     1.000000    0.0\n",
       "5                    max recall   0.055791     1.000000  398.0\n",
       "6               max specificity   0.881243     1.000000    0.0\n",
       "7              max absolute_mcc   0.145187     0.250323  285.0\n",
       "8    max min_per_class_accuracy   0.136859     0.663293  292.0\n",
       "9   max mean_per_class_accuracy   0.131594     0.667223  298.0\n",
       "10                      max tns   0.881243  8200.000000    0.0\n",
       "11                      max fns   0.881243  1481.000000    0.0\n",
       "12                      max fps   0.053946  8200.000000  399.0\n",
       "13                      max tps   0.055791  1482.000000  398.0\n",
       "14                      max tnr   0.881243     1.000000    0.0\n",
       "15                      max fnr   0.881243     0.999325    0.0\n",
       "16                      max fpr   0.053946     1.000000  399.0\n",
       "17                      max tpr   0.055791     1.000000  398.0"
      ]
     },
     "metadata": {},
     "output_type": "display_data"
    },
    {
     "name": "stdout",
     "output_type": "stream",
     "text": [
      "\n",
      "Gains/Lift Table: Avg response rate: 15.31 %, avg score: 16.21 %\n"
     ]
    },
    {
     "data": {
      "text/html": [
       "<div>\n",
       "<style scoped>\n",
       "    .dataframe tbody tr th:only-of-type {\n",
       "        vertical-align: middle;\n",
       "    }\n",
       "\n",
       "    .dataframe tbody tr th {\n",
       "        vertical-align: top;\n",
       "    }\n",
       "\n",
       "    .dataframe thead th {\n",
       "        text-align: right;\n",
       "    }\n",
       "</style>\n",
       "<table border=\"1\" class=\"dataframe\">\n",
       "  <thead>\n",
       "    <tr style=\"text-align: right;\">\n",
       "      <th></th>\n",
       "      <th>group</th>\n",
       "      <th>cumulative_data_fraction</th>\n",
       "      <th>lower_threshold</th>\n",
       "      <th>lift</th>\n",
       "      <th>cumulative_lift</th>\n",
       "      <th>response_rate</th>\n",
       "      <th>score</th>\n",
       "      <th>cumulative_response_rate</th>\n",
       "      <th>cumulative_score</th>\n",
       "      <th>capture_rate</th>\n",
       "      <th>cumulative_capture_rate</th>\n",
       "      <th>gain</th>\n",
       "      <th>cumulative_gain</th>\n",
       "      <th>kolmogorov_smirnov</th>\n",
       "    </tr>\n",
       "  </thead>\n",
       "  <tbody>\n",
       "    <tr>\n",
       "      <th>0</th>\n",
       "      <td>1</td>\n",
       "      <td>0.010019</td>\n",
       "      <td>0.642309</td>\n",
       "      <td>3.636963</td>\n",
       "      <td>3.636963</td>\n",
       "      <td>0.556701</td>\n",
       "      <td>0.714044</td>\n",
       "      <td>0.556701</td>\n",
       "      <td>0.714044</td>\n",
       "      <td>0.036437</td>\n",
       "      <td>0.036437</td>\n",
       "      <td>263.696315</td>\n",
       "      <td>263.696315</td>\n",
       "      <td>0.031193</td>\n",
       "    </tr>\n",
       "    <tr>\n",
       "      <th>1</th>\n",
       "      <td>2</td>\n",
       "      <td>0.020037</td>\n",
       "      <td>0.571324</td>\n",
       "      <td>2.694047</td>\n",
       "      <td>3.165505</td>\n",
       "      <td>0.412371</td>\n",
       "      <td>0.607694</td>\n",
       "      <td>0.484536</td>\n",
       "      <td>0.660869</td>\n",
       "      <td>0.026991</td>\n",
       "      <td>0.063428</td>\n",
       "      <td>169.404677</td>\n",
       "      <td>216.550496</td>\n",
       "      <td>0.051233</td>\n",
       "    </tr>\n",
       "    <tr>\n",
       "      <th>2</th>\n",
       "      <td>3</td>\n",
       "      <td>0.030056</td>\n",
       "      <td>0.520881</td>\n",
       "      <td>2.626696</td>\n",
       "      <td>2.985902</td>\n",
       "      <td>0.402062</td>\n",
       "      <td>0.545817</td>\n",
       "      <td>0.457045</td>\n",
       "      <td>0.622519</td>\n",
       "      <td>0.026316</td>\n",
       "      <td>0.089744</td>\n",
       "      <td>162.669560</td>\n",
       "      <td>198.590184</td>\n",
       "      <td>0.070475</td>\n",
       "    </tr>\n",
       "    <tr>\n",
       "      <th>3</th>\n",
       "      <td>4</td>\n",
       "      <td>0.040074</td>\n",
       "      <td>0.476575</td>\n",
       "      <td>2.828749</td>\n",
       "      <td>2.946614</td>\n",
       "      <td>0.432990</td>\n",
       "      <td>0.499888</td>\n",
       "      <td>0.451031</td>\n",
       "      <td>0.591861</td>\n",
       "      <td>0.028340</td>\n",
       "      <td>0.118084</td>\n",
       "      <td>182.874911</td>\n",
       "      <td>194.661366</td>\n",
       "      <td>0.092108</td>\n",
       "    </tr>\n",
       "    <tr>\n",
       "      <th>4</th>\n",
       "      <td>5</td>\n",
       "      <td>0.050093</td>\n",
       "      <td>0.444429</td>\n",
       "      <td>2.559344</td>\n",
       "      <td>2.869160</td>\n",
       "      <td>0.391753</td>\n",
       "      <td>0.459075</td>\n",
       "      <td>0.439175</td>\n",
       "      <td>0.565304</td>\n",
       "      <td>0.025641</td>\n",
       "      <td>0.143725</td>\n",
       "      <td>155.934444</td>\n",
       "      <td>186.915981</td>\n",
       "      <td>0.110554</td>\n",
       "    </tr>\n",
       "    <tr>\n",
       "      <th>5</th>\n",
       "      <td>6</td>\n",
       "      <td>0.100083</td>\n",
       "      <td>0.331418</td>\n",
       "      <td>2.254177</td>\n",
       "      <td>2.561986</td>\n",
       "      <td>0.345041</td>\n",
       "      <td>0.382084</td>\n",
       "      <td>0.392157</td>\n",
       "      <td>0.473789</td>\n",
       "      <td>0.112686</td>\n",
       "      <td>0.256410</td>\n",
       "      <td>125.417684</td>\n",
       "      <td>156.198566</td>\n",
       "      <td>0.184581</td>\n",
       "    </tr>\n",
       "    <tr>\n",
       "      <th>6</th>\n",
       "      <td>7</td>\n",
       "      <td>0.150072</td>\n",
       "      <td>0.267420</td>\n",
       "      <td>1.795243</td>\n",
       "      <td>2.306581</td>\n",
       "      <td>0.274793</td>\n",
       "      <td>0.297145</td>\n",
       "      <td>0.353063</td>\n",
       "      <td>0.414948</td>\n",
       "      <td>0.089744</td>\n",
       "      <td>0.346154</td>\n",
       "      <td>79.524264</td>\n",
       "      <td>130.658055</td>\n",
       "      <td>0.231520</td>\n",
       "    </tr>\n",
       "    <tr>\n",
       "      <th>7</th>\n",
       "      <td>8</td>\n",
       "      <td>0.200062</td>\n",
       "      <td>0.221764</td>\n",
       "      <td>1.511783</td>\n",
       "      <td>2.107984</td>\n",
       "      <td>0.231405</td>\n",
       "      <td>0.243261</td>\n",
       "      <td>0.322664</td>\n",
       "      <td>0.372048</td>\n",
       "      <td>0.075574</td>\n",
       "      <td>0.421727</td>\n",
       "      <td>51.178327</td>\n",
       "      <td>110.798381</td>\n",
       "      <td>0.261727</td>\n",
       "    </tr>\n",
       "    <tr>\n",
       "      <th>8</th>\n",
       "      <td>9</td>\n",
       "      <td>0.300041</td>\n",
       "      <td>0.163037</td>\n",
       "      <td>1.457791</td>\n",
       "      <td>1.891327</td>\n",
       "      <td>0.223140</td>\n",
       "      <td>0.189716</td>\n",
       "      <td>0.289501</td>\n",
       "      <td>0.311292</td>\n",
       "      <td>0.145749</td>\n",
       "      <td>0.567476</td>\n",
       "      <td>45.779101</td>\n",
       "      <td>89.132748</td>\n",
       "      <td>0.315769</td>\n",
       "    </tr>\n",
       "    <tr>\n",
       "      <th>9</th>\n",
       "      <td>10</td>\n",
       "      <td>0.400021</td>\n",
       "      <td>0.132708</td>\n",
       "      <td>1.147336</td>\n",
       "      <td>1.705378</td>\n",
       "      <td>0.175620</td>\n",
       "      <td>0.146735</td>\n",
       "      <td>0.261038</td>\n",
       "      <td>0.270163</td>\n",
       "      <td>0.114710</td>\n",
       "      <td>0.682186</td>\n",
       "      <td>14.733552</td>\n",
       "      <td>70.537752</td>\n",
       "      <td>0.333162</td>\n",
       "    </tr>\n",
       "    <tr>\n",
       "      <th>10</th>\n",
       "      <td>11</td>\n",
       "      <td>0.500000</td>\n",
       "      <td>0.113707</td>\n",
       "      <td>0.701899</td>\n",
       "      <td>1.504723</td>\n",
       "      <td>0.107438</td>\n",
       "      <td>0.122832</td>\n",
       "      <td>0.230324</td>\n",
       "      <td>0.240703</td>\n",
       "      <td>0.070175</td>\n",
       "      <td>0.752362</td>\n",
       "      <td>-29.810062</td>\n",
       "      <td>50.472335</td>\n",
       "      <td>0.297971</td>\n",
       "    </tr>\n",
       "    <tr>\n",
       "      <th>11</th>\n",
       "      <td>12</td>\n",
       "      <td>0.599979</td>\n",
       "      <td>0.099500</td>\n",
       "      <td>0.836880</td>\n",
       "      <td>1.393435</td>\n",
       "      <td>0.128099</td>\n",
       "      <td>0.106403</td>\n",
       "      <td>0.213290</td>\n",
       "      <td>0.218324</td>\n",
       "      <td>0.083671</td>\n",
       "      <td>0.836032</td>\n",
       "      <td>-16.311997</td>\n",
       "      <td>39.343529</td>\n",
       "      <td>0.278715</td>\n",
       "    </tr>\n",
       "    <tr>\n",
       "      <th>12</th>\n",
       "      <td>13</td>\n",
       "      <td>0.699959</td>\n",
       "      <td>0.087539</td>\n",
       "      <td>0.627660</td>\n",
       "      <td>1.284055</td>\n",
       "      <td>0.096074</td>\n",
       "      <td>0.093347</td>\n",
       "      <td>0.196547</td>\n",
       "      <td>0.200473</td>\n",
       "      <td>0.062753</td>\n",
       "      <td>0.898785</td>\n",
       "      <td>-37.233998</td>\n",
       "      <td>28.405496</td>\n",
       "      <td>0.234761</td>\n",
       "    </tr>\n",
       "    <tr>\n",
       "      <th>13</th>\n",
       "      <td>14</td>\n",
       "      <td>0.799938</td>\n",
       "      <td>0.077436</td>\n",
       "      <td>0.526425</td>\n",
       "      <td>1.189363</td>\n",
       "      <td>0.080579</td>\n",
       "      <td>0.082419</td>\n",
       "      <td>0.182053</td>\n",
       "      <td>0.185718</td>\n",
       "      <td>0.052632</td>\n",
       "      <td>0.951417</td>\n",
       "      <td>-47.357547</td>\n",
       "      <td>18.936339</td>\n",
       "      <td>0.178856</td>\n",
       "    </tr>\n",
       "    <tr>\n",
       "      <th>14</th>\n",
       "      <td>15</td>\n",
       "      <td>0.899917</td>\n",
       "      <td>0.067998</td>\n",
       "      <td>0.337452</td>\n",
       "      <td>1.094717</td>\n",
       "      <td>0.051653</td>\n",
       "      <td>0.072774</td>\n",
       "      <td>0.167566</td>\n",
       "      <td>0.173170</td>\n",
       "      <td>0.033738</td>\n",
       "      <td>0.985155</td>\n",
       "      <td>-66.254838</td>\n",
       "      <td>9.471739</td>\n",
       "      <td>0.100643</td>\n",
       "    </tr>\n",
       "    <tr>\n",
       "      <th>15</th>\n",
       "      <td>16</td>\n",
       "      <td>1.000000</td>\n",
       "      <td>0.052815</td>\n",
       "      <td>0.148325</td>\n",
       "      <td>1.000000</td>\n",
       "      <td>0.022704</td>\n",
       "      <td>0.062776</td>\n",
       "      <td>0.153068</td>\n",
       "      <td>0.162121</td>\n",
       "      <td>0.014845</td>\n",
       "      <td>1.000000</td>\n",
       "      <td>-85.167451</td>\n",
       "      <td>0.000000</td>\n",
       "      <td>0.000000</td>\n",
       "    </tr>\n",
       "  </tbody>\n",
       "</table>\n",
       "</div>"
      ],
      "text/plain": [
       "    group  cumulative_data_fraction  lower_threshold      lift  \\\n",
       "0       1                  0.010019         0.642309  3.636963   \n",
       "1       2                  0.020037         0.571324  2.694047   \n",
       "2       3                  0.030056         0.520881  2.626696   \n",
       "3       4                  0.040074         0.476575  2.828749   \n",
       "4       5                  0.050093         0.444429  2.559344   \n",
       "5       6                  0.100083         0.331418  2.254177   \n",
       "6       7                  0.150072         0.267420  1.795243   \n",
       "7       8                  0.200062         0.221764  1.511783   \n",
       "8       9                  0.300041         0.163037  1.457791   \n",
       "9      10                  0.400021         0.132708  1.147336   \n",
       "10     11                  0.500000         0.113707  0.701899   \n",
       "11     12                  0.599979         0.099500  0.836880   \n",
       "12     13                  0.699959         0.087539  0.627660   \n",
       "13     14                  0.799938         0.077436  0.526425   \n",
       "14     15                  0.899917         0.067998  0.337452   \n",
       "15     16                  1.000000         0.052815  0.148325   \n",
       "\n",
       "    cumulative_lift  response_rate     score  cumulative_response_rate  \\\n",
       "0          3.636963       0.556701  0.714044                  0.556701   \n",
       "1          3.165505       0.412371  0.607694                  0.484536   \n",
       "2          2.985902       0.402062  0.545817                  0.457045   \n",
       "3          2.946614       0.432990  0.499888                  0.451031   \n",
       "4          2.869160       0.391753  0.459075                  0.439175   \n",
       "5          2.561986       0.345041  0.382084                  0.392157   \n",
       "6          2.306581       0.274793  0.297145                  0.353063   \n",
       "7          2.107984       0.231405  0.243261                  0.322664   \n",
       "8          1.891327       0.223140  0.189716                  0.289501   \n",
       "9          1.705378       0.175620  0.146735                  0.261038   \n",
       "10         1.504723       0.107438  0.122832                  0.230324   \n",
       "11         1.393435       0.128099  0.106403                  0.213290   \n",
       "12         1.284055       0.096074  0.093347                  0.196547   \n",
       "13         1.189363       0.080579  0.082419                  0.182053   \n",
       "14         1.094717       0.051653  0.072774                  0.167566   \n",
       "15         1.000000       0.022704  0.062776                  0.153068   \n",
       "\n",
       "    cumulative_score  capture_rate  cumulative_capture_rate        gain  \\\n",
       "0           0.714044      0.036437                 0.036437  263.696315   \n",
       "1           0.660869      0.026991                 0.063428  169.404677   \n",
       "2           0.622519      0.026316                 0.089744  162.669560   \n",
       "3           0.591861      0.028340                 0.118084  182.874911   \n",
       "4           0.565304      0.025641                 0.143725  155.934444   \n",
       "5           0.473789      0.112686                 0.256410  125.417684   \n",
       "6           0.414948      0.089744                 0.346154   79.524264   \n",
       "7           0.372048      0.075574                 0.421727   51.178327   \n",
       "8           0.311292      0.145749                 0.567476   45.779101   \n",
       "9           0.270163      0.114710                 0.682186   14.733552   \n",
       "10          0.240703      0.070175                 0.752362  -29.810062   \n",
       "11          0.218324      0.083671                 0.836032  -16.311997   \n",
       "12          0.200473      0.062753                 0.898785  -37.233998   \n",
       "13          0.185718      0.052632                 0.951417  -47.357547   \n",
       "14          0.173170      0.033738                 0.985155  -66.254838   \n",
       "15          0.162121      0.014845                 1.000000  -85.167451   \n",
       "\n",
       "    cumulative_gain  kolmogorov_smirnov  \n",
       "0        263.696315            0.031193  \n",
       "1        216.550496            0.051233  \n",
       "2        198.590184            0.070475  \n",
       "3        194.661366            0.092108  \n",
       "4        186.915981            0.110554  \n",
       "5        156.198566            0.184581  \n",
       "6        130.658055            0.231520  \n",
       "7        110.798381            0.261727  \n",
       "8         89.132748            0.315769  \n",
       "9         70.537752            0.333162  \n",
       "10        50.472335            0.297971  \n",
       "11        39.343529            0.278715  \n",
       "12        28.405496            0.234761  \n",
       "13        18.936339            0.178856  \n",
       "14         9.471739            0.100643  \n",
       "15         0.000000            0.000000  "
      ]
     },
     "metadata": {},
     "output_type": "display_data"
    },
    {
     "name": "stdout",
     "output_type": "stream",
     "text": [
      "\n"
     ]
    },
    {
     "data": {
      "text/plain": []
     },
     "execution_count": 47,
     "metadata": {},
     "output_type": "execute_result"
    }
   ],
   "source": [
    "aml.leader.model_performance(test_data=test).plot()\n",
    "aml.leader.model_performance(test_data=test)"
   ]
  },
  {
   "cell_type": "markdown",
   "metadata": {},
   "source": [
    "Another convenient use of H2O Flow is to explore the various models built by AutoML."
   ]
  },
  {
   "cell_type": "markdown",
   "metadata": {},
   "source": [
    "# Step 10 (of 10). Stop the Sparkling Water cluster"
   ]
  },
  {
   "cell_type": "code",
   "execution_count": 48,
   "metadata": {},
   "outputs": [
    {
     "name": "stdout",
     "output_type": "stream",
     "text": [
      "H2O session _sid_90ba closed.\n"
     ]
    }
   ],
   "source": [
    "h2o.cluster().shutdown()"
   ]
  },
  {
   "cell_type": "markdown",
   "metadata": {},
   "source": [
    "Once your work is completed, shutting down the Sparkling Water cluster frees up the resources reserved by H2O."
   ]
  }
 ],
 "metadata": {
  "kernelspec": {
   "display_name": "Python 3",
   "language": "python",
   "name": "python3"
  },
  "language_info": {
   "codemirror_mode": {
    "name": "ipython",
    "version": 3
   },
   "file_extension": ".py",
   "mimetype": "text/x-python",
   "name": "python",
   "nbconvert_exporter": "python",
   "pygments_lexer": "ipython3",
   "version": "3.8.3"
  }
 },
 "nbformat": 4,
 "nbformat_minor": 2
}
